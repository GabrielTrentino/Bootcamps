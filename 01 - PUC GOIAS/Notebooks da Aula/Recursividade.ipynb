{
 "cells": [
  {
   "cell_type": "code",
   "execution_count": null,
   "metadata": {
    "id": "XUmBjhHsZ0qx"
   },
   "outputs": [],
   "source": [
    "def countdown(n):\n",
    "  if n <= 0:\n",
    "    print(\"OK\")\n",
    "  else:\n",
    "    print(n)\n",
    "    countdown(n-1)"
   ]
  },
  {
   "cell_type": "code",
   "execution_count": null,
   "metadata": {
    "id": "5AEn0n32ahCZ"
   },
   "outputs": [],
   "source": [
    "countdown(5)"
   ]
  },
  {
   "cell_type": "code",
   "execution_count": null,
   "metadata": {
    "id": "4VAwuj0iarkS"
   },
   "outputs": [],
   "source": [
    "# 3! = 3 x 2 x 1 = 6\n",
    "def fat(n):\n",
    "  if n > 1:\n",
    "    return fat(n-1) * n\n",
    "  else:\n",
    "    return 1"
   ]
  },
  {
   "cell_type": "code",
   "execution_count": null,
   "metadata": {
    "id": "80Ed1dLlbGNW"
   },
   "outputs": [],
   "source": [
    "fat(1)"
   ]
  },
  {
   "cell_type": "code",
   "execution_count": null,
   "metadata": {
    "id": "DNnUl9bFbN77"
   },
   "outputs": [],
   "source": [
    "# 0, 1, 1, 2, 3, 5, 8, 13, 21 ...\n",
    "# F(n) = F(n-1) + F(n-2)\n",
    "def f(n):\n",
    "  if n > 1:\n",
    "    return (f(n-1) + f(n-2))\n",
    "  else:\n",
    "    return n"
   ]
  },
  {
   "cell_type": "code",
   "execution_count": null,
   "metadata": {
    "id": "vmSqtlkfbzEe"
   },
   "outputs": [],
   "source": [
    "f(1)"
   ]
  },
  {
   "cell_type": "code",
   "execution_count": null,
   "metadata": {
    "id": "6M5CvZnkb2Ux"
   },
   "outputs": [],
   "source": [
    "f(6)"
   ]
  }
 ],
 "metadata": {
  "colab": {
   "name": "Recursividade.ipynb",
   "provenance": []
  },
  "kernelspec": {
   "display_name": "Python 3",
   "language": "python",
   "name": "python3"
  },
  "language_info": {
   "codemirror_mode": {
    "name": "ipython",
    "version": 3
   },
   "file_extension": ".py",
   "mimetype": "text/x-python",
   "name": "python",
   "nbconvert_exporter": "python",
   "pygments_lexer": "ipython3",
   "version": "3.8.0"
  }
 },
 "nbformat": 4,
 "nbformat_minor": 1
}
