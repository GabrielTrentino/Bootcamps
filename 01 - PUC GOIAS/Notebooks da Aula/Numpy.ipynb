{
 "cells": [
  {
   "cell_type": "code",
   "execution_count": 1,
   "metadata": {
    "executionInfo": {
     "elapsed": 1196,
     "status": "ok",
     "timestamp": 1615029850028,
     "user": {
      "displayName": "Leonardo",
      "photoUrl": "https://lh3.googleusercontent.com/a-/AOh14GjFFAnkGTFZ2yKgAmVVE5eZCgmqkfyzM2ErE_uaIXk=s64",
      "userId": "06376217261822125631"
     },
     "user_tz": 180
    },
    "id": "wJug-c8F6_7Z"
   },
   "outputs": [],
   "source": [
    "vetor = [1, 2, 3]"
   ]
  },
  {
   "cell_type": "code",
   "execution_count": 2,
   "metadata": {
    "colab": {
     "base_uri": "https://localhost:8080/"
    },
    "executionInfo": {
     "elapsed": 1467,
     "status": "ok",
     "timestamp": 1615029850337,
     "user": {
      "displayName": "Leonardo",
      "photoUrl": "https://lh3.googleusercontent.com/a-/AOh14GjFFAnkGTFZ2yKgAmVVE5eZCgmqkfyzM2ErE_uaIXk=s64",
      "userId": "06376217261822125631"
     },
     "user_tz": 180
    },
    "id": "EuLvtLZm7M_b",
    "outputId": "ff20ee49-c135-41f9-f334-4ca71f6ee51e"
   },
   "outputs": [
    {
     "data": {
      "text/plain": [
       "1"
      ]
     },
     "execution_count": 2,
     "metadata": {
      "tags": []
     },
     "output_type": "execute_result"
    }
   ],
   "source": [
    "vetor[0]"
   ]
  },
  {
   "cell_type": "code",
   "execution_count": 3,
   "metadata": {
    "executionInfo": {
     "elapsed": 1460,
     "status": "ok",
     "timestamp": 1615029850339,
     "user": {
      "displayName": "Leonardo",
      "photoUrl": "https://lh3.googleusercontent.com/a-/AOh14GjFFAnkGTFZ2yKgAmVVE5eZCgmqkfyzM2ErE_uaIXk=s64",
      "userId": "06376217261822125631"
     },
     "user_tz": 180
    },
    "id": "b1guUKeO7G3g"
   },
   "outputs": [],
   "source": [
    "matriz = [ [1, 2, 3], [4, 5, 6] ]"
   ]
  },
  {
   "cell_type": "code",
   "execution_count": 4,
   "metadata": {
    "colab": {
     "base_uri": "https://localhost:8080/"
    },
    "executionInfo": {
     "elapsed": 1451,
     "status": "ok",
     "timestamp": 1615029850340,
     "user": {
      "displayName": "Leonardo",
      "photoUrl": "https://lh3.googleusercontent.com/a-/AOh14GjFFAnkGTFZ2yKgAmVVE5eZCgmqkfyzM2ErE_uaIXk=s64",
      "userId": "06376217261822125631"
     },
     "user_tz": 180
    },
    "id": "-Zkeb9-e7RL-",
    "outputId": "624b54c2-050e-4f06-d202-8fa25c948c22"
   },
   "outputs": [
    {
     "data": {
      "text/plain": [
       "[[1, 2, 3], [4, 5, 6]]"
      ]
     },
     "execution_count": 4,
     "metadata": {
      "tags": []
     },
     "output_type": "execute_result"
    }
   ],
   "source": [
    "matriz"
   ]
  },
  {
   "cell_type": "code",
   "execution_count": 5,
   "metadata": {
    "colab": {
     "base_uri": "https://localhost:8080/"
    },
    "executionInfo": {
     "elapsed": 549,
     "status": "ok",
     "timestamp": 1615029912011,
     "user": {
      "displayName": "Leonardo",
      "photoUrl": "https://lh3.googleusercontent.com/a-/AOh14GjFFAnkGTFZ2yKgAmVVE5eZCgmqkfyzM2ErE_uaIXk=s64",
      "userId": "06376217261822125631"
     },
     "user_tz": 180
    },
    "id": "46vi_mp67Ber",
    "outputId": "60bf7a84-5778-4fd2-945b-414afc382cad"
   },
   "outputs": [
    {
     "data": {
      "text/plain": [
       "5"
      ]
     },
     "execution_count": 5,
     "metadata": {
      "tags": []
     },
     "output_type": "execute_result"
    }
   ],
   "source": [
    "matriz[1][1]"
   ]
  },
  {
   "cell_type": "code",
   "execution_count": 6,
   "metadata": {
    "executionInfo": {
     "elapsed": 571,
     "status": "ok",
     "timestamp": 1615029922903,
     "user": {
      "displayName": "Leonardo",
      "photoUrl": "https://lh3.googleusercontent.com/a-/AOh14GjFFAnkGTFZ2yKgAmVVE5eZCgmqkfyzM2ErE_uaIXk=s64",
      "userId": "06376217261822125631"
     },
     "user_tz": 180
    },
    "id": "5OaaQ2cq8P7b"
   },
   "outputs": [],
   "source": [
    "matriz = [[0] * 6 for i in range(6)]"
   ]
  },
  {
   "cell_type": "code",
   "execution_count": 7,
   "metadata": {
    "colab": {
     "base_uri": "https://localhost:8080/"
    },
    "executionInfo": {
     "elapsed": 558,
     "status": "ok",
     "timestamp": 1615029942361,
     "user": {
      "displayName": "Leonardo",
      "photoUrl": "https://lh3.googleusercontent.com/a-/AOh14GjFFAnkGTFZ2yKgAmVVE5eZCgmqkfyzM2ErE_uaIXk=s64",
      "userId": "06376217261822125631"
     },
     "user_tz": 180
    },
    "id": "2MYcDmfr7SgF",
    "outputId": "0efa683e-ba26-44ef-8806-af3d8aad1a3b"
   },
   "outputs": [
    {
     "data": {
      "text/plain": [
       "[[0, 0, 0, 0, 0, 0],\n",
       " [0, 0, 0, 0, 0, 0],\n",
       " [0, 0, 0, 0, 0, 0],\n",
       " [0, 0, 0, 0, 0, 0],\n",
       " [0, 0, 0, 0, 0, 0],\n",
       " [0, 0, 0, 0, 0, 0]]"
      ]
     },
     "execution_count": 7,
     "metadata": {
      "tags": []
     },
     "output_type": "execute_result"
    }
   ],
   "source": [
    "matriz"
   ]
  },
  {
   "cell_type": "code",
   "execution_count": 8,
   "metadata": {
    "colab": {
     "base_uri": "https://localhost:8080/"
    },
    "executionInfo": {
     "elapsed": 571,
     "status": "ok",
     "timestamp": 1615029949711,
     "user": {
      "displayName": "Leonardo",
      "photoUrl": "https://lh3.googleusercontent.com/a-/AOh14GjFFAnkGTFZ2yKgAmVVE5eZCgmqkfyzM2ErE_uaIXk=s64",
      "userId": "06376217261822125631"
     },
     "user_tz": 180
    },
    "id": "G_ujuNm5-0aC",
    "outputId": "08cbb227-6382-4cbb-eed4-91264a883d2e"
   },
   "outputs": [
    {
     "name": "stdout",
     "output_type": "stream",
     "text": [
      "0 0\n",
      "0 1\n",
      "0 2\n",
      "0 3\n",
      "0 4\n",
      "0 5\n",
      "1 0\n",
      "1 1\n",
      "1 2\n",
      "1 3\n",
      "1 4\n",
      "1 5\n",
      "2 0\n",
      "2 1\n",
      "2 2\n",
      "2 3\n",
      "2 4\n",
      "2 5\n",
      "3 0\n",
      "3 1\n",
      "3 2\n",
      "3 3\n",
      "3 4\n",
      "3 5\n",
      "4 0\n",
      "4 1\n",
      "4 2\n",
      "4 3\n",
      "4 4\n",
      "4 5\n",
      "5 0\n",
      "5 1\n",
      "5 2\n",
      "5 3\n",
      "5 4\n",
      "5 5\n"
     ]
    }
   ],
   "source": [
    "for i in range(6):\n",
    "  for j in range(6):\n",
    "    matriz[i][j] = 0\n",
    "    print(i, j)"
   ]
  },
  {
   "cell_type": "code",
   "execution_count": 9,
   "metadata": {
    "colab": {
     "base_uri": "https://localhost:8080/"
    },
    "executionInfo": {
     "elapsed": 578,
     "status": "ok",
     "timestamp": 1615029985605,
     "user": {
      "displayName": "Leonardo",
      "photoUrl": "https://lh3.googleusercontent.com/a-/AOh14GjFFAnkGTFZ2yKgAmVVE5eZCgmqkfyzM2ErE_uaIXk=s64",
      "userId": "06376217261822125631"
     },
     "user_tz": 180
    },
    "id": "VDQafyUx_3hc",
    "outputId": "b3b026fd-d361-4790-d381-434a153c62ae"
   },
   "outputs": [
    {
     "data": {
      "text/plain": [
       "[[0, 0, 0, 0, 0, 0],\n",
       " [0, 0, 0, 0, 0, 0],\n",
       " [0, 0, 0, 0, 0, 0],\n",
       " [0, 0, 0, 0, 0, 0],\n",
       " [0, 0, 0, 0, 0, 0],\n",
       " [0, 0, 0, 0, 0, 0]]"
      ]
     },
     "execution_count": 9,
     "metadata": {
      "tags": []
     },
     "output_type": "execute_result"
    }
   ],
   "source": [
    "matriz"
   ]
  },
  {
   "cell_type": "code",
   "execution_count": 10,
   "metadata": {
    "colab": {
     "base_uri": "https://localhost:8080/"
    },
    "executionInfo": {
     "elapsed": 572,
     "status": "ok",
     "timestamp": 1615030027665,
     "user": {
      "displayName": "Leonardo",
      "photoUrl": "https://lh3.googleusercontent.com/a-/AOh14GjFFAnkGTFZ2yKgAmVVE5eZCgmqkfyzM2ErE_uaIXk=s64",
      "userId": "06376217261822125631"
     },
     "user_tz": 180
    },
    "id": "CtjRHo49_-8q",
    "outputId": "22611f16-5f5f-436c-d18e-5c6b1f48d925"
   },
   "outputs": [
    {
     "name": "stdout",
     "output_type": "stream",
     "text": [
      "0 0 0\n",
      "0 1 1\n",
      "0 2 2\n",
      "0 3 3\n",
      "0 4 4\n",
      "0 5 5\n",
      "1 0 10\n",
      "1 1 11\n",
      "1 2 12\n",
      "1 3 13\n",
      "1 4 14\n",
      "1 5 15\n",
      "2 0 20\n",
      "2 1 21\n",
      "2 2 22\n",
      "2 3 23\n",
      "2 4 24\n",
      "2 5 25\n",
      "3 0 30\n",
      "3 1 31\n",
      "3 2 32\n",
      "3 3 33\n",
      "3 4 34\n",
      "3 5 35\n",
      "4 0 40\n",
      "4 1 41\n",
      "4 2 42\n",
      "4 3 43\n",
      "4 4 44\n",
      "4 5 45\n",
      "5 0 50\n",
      "5 1 51\n",
      "5 2 52\n",
      "5 3 53\n",
      "5 4 54\n",
      "5 5 55\n"
     ]
    }
   ],
   "source": [
    "for l in range(6):\n",
    "  for c in range(6):\n",
    "    matriz[l][c] = 10 * l + c \n",
    "    print(l, c, 10 * l + c )"
   ]
  },
  {
   "cell_type": "code",
   "execution_count": 11,
   "metadata": {
    "colab": {
     "base_uri": "https://localhost:8080/"
    },
    "executionInfo": {
     "elapsed": 596,
     "status": "ok",
     "timestamp": 1615030031420,
     "user": {
      "displayName": "Leonardo",
      "photoUrl": "https://lh3.googleusercontent.com/a-/AOh14GjFFAnkGTFZ2yKgAmVVE5eZCgmqkfyzM2ErE_uaIXk=s64",
      "userId": "06376217261822125631"
     },
     "user_tz": 180
    },
    "id": "dqGTjygfAg24",
    "outputId": "d97e565e-65de-4e1d-d611-712ca0f25448"
   },
   "outputs": [
    {
     "data": {
      "text/plain": [
       "[[0, 1, 2, 3, 4, 5],\n",
       " [10, 11, 12, 13, 14, 15],\n",
       " [20, 21, 22, 23, 24, 25],\n",
       " [30, 31, 32, 33, 34, 35],\n",
       " [40, 41, 42, 43, 44, 45],\n",
       " [50, 51, 52, 53, 54, 55]]"
      ]
     },
     "execution_count": 11,
     "metadata": {
      "tags": []
     },
     "output_type": "execute_result"
    }
   ],
   "source": [
    "matriz"
   ]
  },
  {
   "cell_type": "code",
   "execution_count": 12,
   "metadata": {
    "executionInfo": {
     "elapsed": 534,
     "status": "ok",
     "timestamp": 1615030217227,
     "user": {
      "displayName": "Leonardo",
      "photoUrl": "https://lh3.googleusercontent.com/a-/AOh14GjFFAnkGTFZ2yKgAmVVE5eZCgmqkfyzM2ErE_uaIXk=s64",
      "userId": "06376217261822125631"
     },
     "user_tz": 180
    },
    "id": "0PdOPNNSBEu_"
   },
   "outputs": [],
   "source": [
    "import numpy as np"
   ]
  },
  {
   "cell_type": "code",
   "execution_count": 20,
   "metadata": {
    "executionInfo": {
     "elapsed": 601,
     "status": "ok",
     "timestamp": 1615030426708,
     "user": {
      "displayName": "Leonardo",
      "photoUrl": "https://lh3.googleusercontent.com/a-/AOh14GjFFAnkGTFZ2yKgAmVVE5eZCgmqkfyzM2ErE_uaIXk=s64",
      "userId": "06376217261822125631"
     },
     "user_tz": 180
    },
    "id": "ATln4leiBTLM"
   },
   "outputs": [],
   "source": [
    "a = np.array([1, 2, 3])"
   ]
  },
  {
   "cell_type": "code",
   "execution_count": 21,
   "metadata": {
    "colab": {
     "base_uri": "https://localhost:8080/"
    },
    "executionInfo": {
     "elapsed": 385,
     "status": "ok",
     "timestamp": 1615030427734,
     "user": {
      "displayName": "Leonardo",
      "photoUrl": "https://lh3.googleusercontent.com/a-/AOh14GjFFAnkGTFZ2yKgAmVVE5eZCgmqkfyzM2ErE_uaIXk=s64",
      "userId": "06376217261822125631"
     },
     "user_tz": 180
    },
    "id": "rf5aoio6BUrP",
    "outputId": "9c3332b7-cd55-4d21-d169-c6ce7c00c80e"
   },
   "outputs": [
    {
     "name": "stdout",
     "output_type": "stream",
     "text": [
      "<class 'numpy.ndarray'>\n"
     ]
    }
   ],
   "source": [
    "print(type(a))"
   ]
  },
  {
   "cell_type": "code",
   "execution_count": 22,
   "metadata": {
    "colab": {
     "base_uri": "https://localhost:8080/"
    },
    "executionInfo": {
     "elapsed": 602,
     "status": "ok",
     "timestamp": 1615030429070,
     "user": {
      "displayName": "Leonardo",
      "photoUrl": "https://lh3.googleusercontent.com/a-/AOh14GjFFAnkGTFZ2yKgAmVVE5eZCgmqkfyzM2ErE_uaIXk=s64",
      "userId": "06376217261822125631"
     },
     "user_tz": 180
    },
    "id": "fiSh0n1GBWB_",
    "outputId": "fb33a677-f4b8-49ee-ecae-94d80b3fee2c"
   },
   "outputs": [
    {
     "name": "stdout",
     "output_type": "stream",
     "text": [
      "(3,)\n"
     ]
    }
   ],
   "source": [
    "print(a.shape)"
   ]
  },
  {
   "cell_type": "code",
   "execution_count": 23,
   "metadata": {
    "colab": {
     "base_uri": "https://localhost:8080/"
    },
    "executionInfo": {
     "elapsed": 689,
     "status": "ok",
     "timestamp": 1615030430716,
     "user": {
      "displayName": "Leonardo",
      "photoUrl": "https://lh3.googleusercontent.com/a-/AOh14GjFFAnkGTFZ2yKgAmVVE5eZCgmqkfyzM2ErE_uaIXk=s64",
      "userId": "06376217261822125631"
     },
     "user_tz": 180
    },
    "id": "ic7tlb9pBXMB",
    "outputId": "47cc4267-6f4b-46f8-90bd-5ee1145f7edc"
   },
   "outputs": [
    {
     "name": "stdout",
     "output_type": "stream",
     "text": [
      "1 2 3\n"
     ]
    }
   ],
   "source": [
    "print(a[0], a[1], a[2])"
   ]
  },
  {
   "cell_type": "code",
   "execution_count": 24,
   "metadata": {
    "colab": {
     "base_uri": "https://localhost:8080/"
    },
    "executionInfo": {
     "elapsed": 581,
     "status": "ok",
     "timestamp": 1615030445947,
     "user": {
      "displayName": "Leonardo",
      "photoUrl": "https://lh3.googleusercontent.com/a-/AOh14GjFFAnkGTFZ2yKgAmVVE5eZCgmqkfyzM2ErE_uaIXk=s64",
      "userId": "06376217261822125631"
     },
     "user_tz": 180
    },
    "id": "GkwY9mZGUNuC",
    "outputId": "0fdf31d0-3cc8-4ae7-f0d3-29714bdcb67b"
   },
   "outputs": [
    {
     "data": {
      "text/plain": [
       "array([1, 2, 3])"
      ]
     },
     "execution_count": 24,
     "metadata": {
      "tags": []
     },
     "output_type": "execute_result"
    }
   ],
   "source": [
    "a"
   ]
  },
  {
   "cell_type": "code",
   "execution_count": 25,
   "metadata": {
    "executionInfo": {
     "elapsed": 557,
     "status": "ok",
     "timestamp": 1615030453951,
     "user": {
      "displayName": "Leonardo",
      "photoUrl": "https://lh3.googleusercontent.com/a-/AOh14GjFFAnkGTFZ2yKgAmVVE5eZCgmqkfyzM2ErE_uaIXk=s64",
      "userId": "06376217261822125631"
     },
     "user_tz": 180
    },
    "id": "uizIsZ0cBYe4"
   },
   "outputs": [],
   "source": [
    "a[0] = 5"
   ]
  },
  {
   "cell_type": "code",
   "execution_count": 26,
   "metadata": {
    "colab": {
     "base_uri": "https://localhost:8080/"
    },
    "executionInfo": {
     "elapsed": 595,
     "status": "ok",
     "timestamp": 1615030455539,
     "user": {
      "displayName": "Leonardo",
      "photoUrl": "https://lh3.googleusercontent.com/a-/AOh14GjFFAnkGTFZ2yKgAmVVE5eZCgmqkfyzM2ErE_uaIXk=s64",
      "userId": "06376217261822125631"
     },
     "user_tz": 180
    },
    "id": "xxkkiYvVBaJ0",
    "outputId": "cd91a5e0-8c1a-4d12-d6ee-2462d83e6c90"
   },
   "outputs": [
    {
     "name": "stdout",
     "output_type": "stream",
     "text": [
      "[5 2 3]\n"
     ]
    }
   ],
   "source": [
    "print(a)"
   ]
  },
  {
   "cell_type": "code",
   "execution_count": 27,
   "metadata": {
    "executionInfo": {
     "elapsed": 586,
     "status": "ok",
     "timestamp": 1615030468482,
     "user": {
      "displayName": "Leonardo",
      "photoUrl": "https://lh3.googleusercontent.com/a-/AOh14GjFFAnkGTFZ2yKgAmVVE5eZCgmqkfyzM2ErE_uaIXk=s64",
      "userId": "06376217261822125631"
     },
     "user_tz": 180
    },
    "id": "qYBxW6ZPBbkO"
   },
   "outputs": [],
   "source": [
    "b = np.array([[1, 2, 3], [4, 5, 6]])"
   ]
  },
  {
   "cell_type": "code",
   "execution_count": 28,
   "metadata": {
    "colab": {
     "base_uri": "https://localhost:8080/"
    },
    "executionInfo": {
     "elapsed": 593,
     "status": "ok",
     "timestamp": 1615030469749,
     "user": {
      "displayName": "Leonardo",
      "photoUrl": "https://lh3.googleusercontent.com/a-/AOh14GjFFAnkGTFZ2yKgAmVVE5eZCgmqkfyzM2ErE_uaIXk=s64",
      "userId": "06376217261822125631"
     },
     "user_tz": 180
    },
    "id": "1GsG2lskBdCY",
    "outputId": "80ee0cc8-3da4-4eae-e612-654aadc8dedc"
   },
   "outputs": [
    {
     "name": "stdout",
     "output_type": "stream",
     "text": [
      "(2, 3)\n"
     ]
    }
   ],
   "source": [
    "print(b.shape)"
   ]
  },
  {
   "cell_type": "code",
   "execution_count": 29,
   "metadata": {
    "colab": {
     "base_uri": "https://localhost:8080/"
    },
    "executionInfo": {
     "elapsed": 568,
     "status": "ok",
     "timestamp": 1615030480539,
     "user": {
      "displayName": "Leonardo",
      "photoUrl": "https://lh3.googleusercontent.com/a-/AOh14GjFFAnkGTFZ2yKgAmVVE5eZCgmqkfyzM2ErE_uaIXk=s64",
      "userId": "06376217261822125631"
     },
     "user_tz": 180
    },
    "id": "VehYpqOKBeH2",
    "outputId": "3ce15d3e-d513-4b6f-8be5-2a06c3b70d7d"
   },
   "outputs": [
    {
     "name": "stdout",
     "output_type": "stream",
     "text": [
      "1 2 4\n"
     ]
    }
   ],
   "source": [
    "print(b[0, 0], b[0, 1], b[1, 0])"
   ]
  },
  {
   "cell_type": "code",
   "execution_count": 30,
   "metadata": {
    "colab": {
     "base_uri": "https://localhost:8080/"
    },
    "executionInfo": {
     "elapsed": 659,
     "status": "ok",
     "timestamp": 1615030540813,
     "user": {
      "displayName": "Leonardo",
      "photoUrl": "https://lh3.googleusercontent.com/a-/AOh14GjFFAnkGTFZ2yKgAmVVE5eZCgmqkfyzM2ErE_uaIXk=s64",
      "userId": "06376217261822125631"
     },
     "user_tz": 180
    },
    "id": "1gXsOlEDB-pl",
    "outputId": "dd457134-216a-4f6f-c87c-c9e77f59cce6"
   },
   "outputs": [
    {
     "name": "stdout",
     "output_type": "stream",
     "text": [
      "[[0. 0.]\n",
      " [0. 0.]]\n"
     ]
    }
   ],
   "source": [
    "a = np.zeros((2,2))\n",
    "print(a)"
   ]
  },
  {
   "cell_type": "code",
   "execution_count": 31,
   "metadata": {
    "colab": {
     "base_uri": "https://localhost:8080/"
    },
    "executionInfo": {
     "elapsed": 595,
     "status": "ok",
     "timestamp": 1615030554601,
     "user": {
      "displayName": "Leonardo",
      "photoUrl": "https://lh3.googleusercontent.com/a-/AOh14GjFFAnkGTFZ2yKgAmVVE5eZCgmqkfyzM2ErE_uaIXk=s64",
      "userId": "06376217261822125631"
     },
     "user_tz": 180
    },
    "id": "ZmplOWL0CMOw",
    "outputId": "cebbedb4-34c2-4698-c0d2-203771758c4e"
   },
   "outputs": [
    {
     "name": "stdout",
     "output_type": "stream",
     "text": [
      "[[1. 1.]]\n"
     ]
    }
   ],
   "source": [
    "b = np.ones((1, 2))\n",
    "print(b)"
   ]
  },
  {
   "cell_type": "code",
   "execution_count": 32,
   "metadata": {
    "colab": {
     "base_uri": "https://localhost:8080/"
    },
    "executionInfo": {
     "elapsed": 580,
     "status": "ok",
     "timestamp": 1615030573052,
     "user": {
      "displayName": "Leonardo",
      "photoUrl": "https://lh3.googleusercontent.com/a-/AOh14GjFFAnkGTFZ2yKgAmVVE5eZCgmqkfyzM2ErE_uaIXk=s64",
      "userId": "06376217261822125631"
     },
     "user_tz": 180
    },
    "id": "qJvqP-uPCRAO",
    "outputId": "1ebe55e0-12a1-4573-f120-a66706e8d2ab"
   },
   "outputs": [
    {
     "name": "stdout",
     "output_type": "stream",
     "text": [
      "[[7 7]\n",
      " [7 7]]\n"
     ]
    }
   ],
   "source": [
    "c = np.full((2, 2), 7)\n",
    "print(c)"
   ]
  },
  {
   "cell_type": "code",
   "execution_count": 34,
   "metadata": {
    "colab": {
     "base_uri": "https://localhost:8080/"
    },
    "executionInfo": {
     "elapsed": 556,
     "status": "ok",
     "timestamp": 1615030593710,
     "user": {
      "displayName": "Leonardo",
      "photoUrl": "https://lh3.googleusercontent.com/a-/AOh14GjFFAnkGTFZ2yKgAmVVE5eZCgmqkfyzM2ErE_uaIXk=s64",
      "userId": "06376217261822125631"
     },
     "user_tz": 180
    },
    "id": "WACDX9Z0CVPI",
    "outputId": "5ae4168f-c027-4fcf-caf1-3086529666c4"
   },
   "outputs": [
    {
     "name": "stdout",
     "output_type": "stream",
     "text": [
      "[[1. 0. 0. 0.]\n",
      " [0. 1. 0. 0.]\n",
      " [0. 0. 1. 0.]\n",
      " [0. 0. 0. 1.]]\n"
     ]
    }
   ],
   "source": [
    "d = np.eye(4)\n",
    "print(d)"
   ]
  },
  {
   "cell_type": "code",
   "execution_count": 35,
   "metadata": {
    "colab": {
     "base_uri": "https://localhost:8080/"
    },
    "executionInfo": {
     "elapsed": 606,
     "status": "ok",
     "timestamp": 1615030633982,
     "user": {
      "displayName": "Leonardo",
      "photoUrl": "https://lh3.googleusercontent.com/a-/AOh14GjFFAnkGTFZ2yKgAmVVE5eZCgmqkfyzM2ErE_uaIXk=s64",
      "userId": "06376217261822125631"
     },
     "user_tz": 180
    },
    "id": "xXruqPN9Cak-",
    "outputId": "86bb308f-c7dd-490d-8a89-56e03df17378"
   },
   "outputs": [
    {
     "name": "stdout",
     "output_type": "stream",
     "text": [
      "[[0.93479713 0.40463363]\n",
      " [0.9529881  0.41990048]]\n"
     ]
    }
   ],
   "source": [
    "e = np.random.random((2,2))\n",
    "print(e)"
   ]
  },
  {
   "cell_type": "code",
   "execution_count": 36,
   "metadata": {
    "executionInfo": {
     "elapsed": 604,
     "status": "ok",
     "timestamp": 1615030659333,
     "user": {
      "displayName": "Leonardo",
      "photoUrl": "https://lh3.googleusercontent.com/a-/AOh14GjFFAnkGTFZ2yKgAmVVE5eZCgmqkfyzM2ErE_uaIXk=s64",
      "userId": "06376217261822125631"
     },
     "user_tz": 180
    },
    "id": "Mi-sGv51CkS4"
   },
   "outputs": [],
   "source": [
    "matriz2 = np.zeros((6,6))\n"
   ]
  },
  {
   "cell_type": "code",
   "execution_count": 37,
   "metadata": {
    "colab": {
     "base_uri": "https://localhost:8080/"
    },
    "executionInfo": {
     "elapsed": 629,
     "status": "ok",
     "timestamp": 1615030661155,
     "user": {
      "displayName": "Leonardo",
      "photoUrl": "https://lh3.googleusercontent.com/a-/AOh14GjFFAnkGTFZ2yKgAmVVE5eZCgmqkfyzM2ErE_uaIXk=s64",
      "userId": "06376217261822125631"
     },
     "user_tz": 180
    },
    "id": "RfnAsB9NCuP6",
    "outputId": "6ea2be73-a96c-4ab6-8bc6-f2ab7ddcc50e"
   },
   "outputs": [
    {
     "data": {
      "text/plain": [
       "array([[0., 0., 0., 0., 0., 0.],\n",
       "       [0., 0., 0., 0., 0., 0.],\n",
       "       [0., 0., 0., 0., 0., 0.],\n",
       "       [0., 0., 0., 0., 0., 0.],\n",
       "       [0., 0., 0., 0., 0., 0.],\n",
       "       [0., 0., 0., 0., 0., 0.]])"
      ]
     },
     "execution_count": 37,
     "metadata": {
      "tags": []
     },
     "output_type": "execute_result"
    }
   ],
   "source": [
    "matriz2"
   ]
  },
  {
   "cell_type": "code",
   "execution_count": 38,
   "metadata": {
    "colab": {
     "base_uri": "https://localhost:8080/"
    },
    "executionInfo": {
     "elapsed": 654,
     "status": "ok",
     "timestamp": 1615030667689,
     "user": {
      "displayName": "Leonardo",
      "photoUrl": "https://lh3.googleusercontent.com/a-/AOh14GjFFAnkGTFZ2yKgAmVVE5eZCgmqkfyzM2ErE_uaIXk=s64",
      "userId": "06376217261822125631"
     },
     "user_tz": 180
    },
    "id": "k4LfJIAACxb9",
    "outputId": "25cbca3d-2ebb-4946-f959-36b57329a902"
   },
   "outputs": [
    {
     "data": {
      "text/plain": [
       "numpy.ndarray"
      ]
     },
     "execution_count": 38,
     "metadata": {
      "tags": []
     },
     "output_type": "execute_result"
    }
   ],
   "source": [
    "type(matriz2)"
   ]
  },
  {
   "cell_type": "code",
   "execution_count": 39,
   "metadata": {
    "executionInfo": {
     "elapsed": 617,
     "status": "ok",
     "timestamp": 1615030678125,
     "user": {
      "displayName": "Leonardo",
      "photoUrl": "https://lh3.googleusercontent.com/a-/AOh14GjFFAnkGTFZ2yKgAmVVE5eZCgmqkfyzM2ErE_uaIXk=s64",
      "userId": "06376217261822125631"
     },
     "user_tz": 180
    },
    "id": "7709gUXXDCuT"
   },
   "outputs": [],
   "source": [
    "for l in range(6):\n",
    "  for c in range(6):\n",
    "    matriz2[l][c] = 10 * l + c "
   ]
  },
  {
   "cell_type": "code",
   "execution_count": 40,
   "metadata": {
    "colab": {
     "base_uri": "https://localhost:8080/"
    },
    "executionInfo": {
     "elapsed": 676,
     "status": "ok",
     "timestamp": 1615030680766,
     "user": {
      "displayName": "Leonardo",
      "photoUrl": "https://lh3.googleusercontent.com/a-/AOh14GjFFAnkGTFZ2yKgAmVVE5eZCgmqkfyzM2ErE_uaIXk=s64",
      "userId": "06376217261822125631"
     },
     "user_tz": 180
    },
    "id": "QGRwKSF1DEgN",
    "outputId": "1bce70ec-97fd-4696-eac5-d3240a540726"
   },
   "outputs": [
    {
     "data": {
      "text/plain": [
       "array([[ 0.,  1.,  2.,  3.,  4.,  5.],\n",
       "       [10., 11., 12., 13., 14., 15.],\n",
       "       [20., 21., 22., 23., 24., 25.],\n",
       "       [30., 31., 32., 33., 34., 35.],\n",
       "       [40., 41., 42., 43., 44., 45.],\n",
       "       [50., 51., 52., 53., 54., 55.]])"
      ]
     },
     "execution_count": 40,
     "metadata": {
      "tags": []
     },
     "output_type": "execute_result"
    }
   ],
   "source": [
    "matriz2"
   ]
  },
  {
   "cell_type": "code",
   "execution_count": 41,
   "metadata": {
    "colab": {
     "base_uri": "https://localhost:8080/"
    },
    "executionInfo": {
     "elapsed": 587,
     "status": "ok",
     "timestamp": 1615030695918,
     "user": {
      "displayName": "Leonardo",
      "photoUrl": "https://lh3.googleusercontent.com/a-/AOh14GjFFAnkGTFZ2yKgAmVVE5eZCgmqkfyzM2ErE_uaIXk=s64",
      "userId": "06376217261822125631"
     },
     "user_tz": 180
    },
    "id": "NeHgbwTQDLAs",
    "outputId": "219b0212-e3ae-4a21-b188-d72de11b7344"
   },
   "outputs": [
    {
     "data": {
      "text/plain": [
       "array([3., 4.])"
      ]
     },
     "execution_count": 41,
     "metadata": {
      "tags": []
     },
     "output_type": "execute_result"
    }
   ],
   "source": [
    "matriz2[0,3:5]"
   ]
  },
  {
   "cell_type": "code",
   "execution_count": 42,
   "metadata": {
    "colab": {
     "base_uri": "https://localhost:8080/"
    },
    "executionInfo": {
     "elapsed": 620,
     "status": "ok",
     "timestamp": 1615030768216,
     "user": {
      "displayName": "Leonardo",
      "photoUrl": "https://lh3.googleusercontent.com/a-/AOh14GjFFAnkGTFZ2yKgAmVVE5eZCgmqkfyzM2ErE_uaIXk=s64",
      "userId": "06376217261822125631"
     },
     "user_tz": 180
    },
    "id": "ejaTvkGrEMHh",
    "outputId": "f4006499-0b17-4e92-c351-caea6a0038b8"
   },
   "outputs": [
    {
     "data": {
      "text/plain": [
       "array([[44., 45.],\n",
       "       [54., 55.]])"
      ]
     },
     "execution_count": 42,
     "metadata": {
      "tags": []
     },
     "output_type": "execute_result"
    }
   ],
   "source": [
    "matriz2[4:,4:]"
   ]
  },
  {
   "cell_type": "code",
   "execution_count": 43,
   "metadata": {
    "colab": {
     "base_uri": "https://localhost:8080/"
    },
    "executionInfo": {
     "elapsed": 575,
     "status": "ok",
     "timestamp": 1615030831131,
     "user": {
      "displayName": "Leonardo",
      "photoUrl": "https://lh3.googleusercontent.com/a-/AOh14GjFFAnkGTFZ2yKgAmVVE5eZCgmqkfyzM2ErE_uaIXk=s64",
      "userId": "06376217261822125631"
     },
     "user_tz": 180
    },
    "id": "-8Q64v_gEibA",
    "outputId": "fcfaec5c-af9c-46c5-f075-881f50dcd289"
   },
   "outputs": [
    {
     "data": {
      "text/plain": [
       "array([ 2., 12., 22., 32., 42., 52.])"
      ]
     },
     "execution_count": 43,
     "metadata": {
      "tags": []
     },
     "output_type": "execute_result"
    }
   ],
   "source": [
    "matriz2[:,2]"
   ]
  },
  {
   "cell_type": "code",
   "execution_count": 48,
   "metadata": {
    "colab": {
     "base_uri": "https://localhost:8080/"
    },
    "executionInfo": {
     "elapsed": 641,
     "status": "ok",
     "timestamp": 1615031032472,
     "user": {
      "displayName": "Leonardo",
      "photoUrl": "https://lh3.googleusercontent.com/a-/AOh14GjFFAnkGTFZ2yKgAmVVE5eZCgmqkfyzM2ErE_uaIXk=s64",
      "userId": "06376217261822125631"
     },
     "user_tz": 180
    },
    "id": "DWwvDzm0E2O0",
    "outputId": "1b60e900-8225-4756-dc01-9f62a7bc31b7"
   },
   "outputs": [
    {
     "data": {
      "text/plain": [
       "array([[20., 22., 24.],\n",
       "       [40., 42., 44.]])"
      ]
     },
     "execution_count": 48,
     "metadata": {
      "tags": []
     },
     "output_type": "execute_result"
    }
   ],
   "source": [
    "matriz2[2::2,0::2]"
   ]
  },
  {
   "cell_type": "code",
   "execution_count": 49,
   "metadata": {
    "colab": {
     "base_uri": "https://localhost:8080/"
    },
    "executionInfo": {
     "elapsed": 607,
     "status": "ok",
     "timestamp": 1615031136532,
     "user": {
      "displayName": "Leonardo",
      "photoUrl": "https://lh3.googleusercontent.com/a-/AOh14GjFFAnkGTFZ2yKgAmVVE5eZCgmqkfyzM2ErE_uaIXk=s64",
      "userId": "06376217261822125631"
     },
     "user_tz": 180
    },
    "id": "NqWiYtjCFfxr",
    "outputId": "8d543dce-ad43-424a-ba39-6907e9dd4ac6"
   },
   "outputs": [
    {
     "name": "stdout",
     "output_type": "stream",
     "text": [
      "[[ 1  2  3  4]\n",
      " [ 5  6  7  8]\n",
      " [ 9 10 11 12]]\n"
     ]
    }
   ],
   "source": [
    "a = np.array([[1,2,3,4], [5,6,7,8], [9,10,11,12]])\n",
    "print(a)"
   ]
  },
  {
   "cell_type": "code",
   "execution_count": 50,
   "metadata": {
    "colab": {
     "base_uri": "https://localhost:8080/"
    },
    "executionInfo": {
     "elapsed": 637,
     "status": "ok",
     "timestamp": 1615031163483,
     "user": {
      "displayName": "Leonardo",
      "photoUrl": "https://lh3.googleusercontent.com/a-/AOh14GjFFAnkGTFZ2yKgAmVVE5eZCgmqkfyzM2ErE_uaIXk=s64",
      "userId": "06376217261822125631"
     },
     "user_tz": 180
    },
    "id": "lhiuTH9KFkNW",
    "outputId": "cfcd1158-161b-414d-d11e-bf133977fbde"
   },
   "outputs": [
    {
     "name": "stdout",
     "output_type": "stream",
     "text": [
      "[[2 3]\n",
      " [6 7]]\n"
     ]
    }
   ],
   "source": [
    "b = a[0:2, 1:3]\n",
    "print(b)"
   ]
  },
  {
   "cell_type": "code",
   "execution_count": 51,
   "metadata": {
    "colab": {
     "base_uri": "https://localhost:8080/"
    },
    "executionInfo": {
     "elapsed": 615,
     "status": "ok",
     "timestamp": 1615031211930,
     "user": {
      "displayName": "Leonardo",
      "photoUrl": "https://lh3.googleusercontent.com/a-/AOh14GjFFAnkGTFZ2yKgAmVVE5eZCgmqkfyzM2ErE_uaIXk=s64",
      "userId": "06376217261822125631"
     },
     "user_tz": 180
    },
    "id": "I0uM-U7cGDnP",
    "outputId": "7184f1be-5200-4935-a14f-2d8d123c7a1e"
   },
   "outputs": [
    {
     "name": "stdout",
     "output_type": "stream",
     "text": [
      "2\n"
     ]
    }
   ],
   "source": [
    "print(a[0, 1])"
   ]
  },
  {
   "cell_type": "code",
   "execution_count": 52,
   "metadata": {
    "executionInfo": {
     "elapsed": 404,
     "status": "ok",
     "timestamp": 1615031228663,
     "user": {
      "displayName": "Leonardo",
      "photoUrl": "https://lh3.googleusercontent.com/a-/AOh14GjFFAnkGTFZ2yKgAmVVE5eZCgmqkfyzM2ErE_uaIXk=s64",
      "userId": "06376217261822125631"
     },
     "user_tz": 180
    },
    "id": "YxOMS9n-Flne"
   },
   "outputs": [],
   "source": [
    "b[0, 0] = 77"
   ]
  },
  {
   "cell_type": "code",
   "execution_count": 53,
   "metadata": {
    "colab": {
     "base_uri": "https://localhost:8080/"
    },
    "executionInfo": {
     "elapsed": 589,
     "status": "ok",
     "timestamp": 1615031231281,
     "user": {
      "displayName": "Leonardo",
      "photoUrl": "https://lh3.googleusercontent.com/a-/AOh14GjFFAnkGTFZ2yKgAmVVE5eZCgmqkfyzM2ErE_uaIXk=s64",
      "userId": "06376217261822125631"
     },
     "user_tz": 180
    },
    "id": "38sU8wh2GKpd",
    "outputId": "96652868-a134-451f-82c3-c5ce0e198247"
   },
   "outputs": [
    {
     "name": "stdout",
     "output_type": "stream",
     "text": [
      "[[77  3]\n",
      " [ 6  7]]\n"
     ]
    }
   ],
   "source": [
    "print(b)"
   ]
  },
  {
   "cell_type": "code",
   "execution_count": 54,
   "metadata": {
    "colab": {
     "base_uri": "https://localhost:8080/"
    },
    "executionInfo": {
     "elapsed": 669,
     "status": "ok",
     "timestamp": 1615031235789,
     "user": {
      "displayName": "Leonardo",
      "photoUrl": "https://lh3.googleusercontent.com/a-/AOh14GjFFAnkGTFZ2yKgAmVVE5eZCgmqkfyzM2ErE_uaIXk=s64",
      "userId": "06376217261822125631"
     },
     "user_tz": 180
    },
    "id": "Y9zg5IcHGORn",
    "outputId": "b42c19e1-cfd3-4ed4-cb46-67898f0eefc4"
   },
   "outputs": [
    {
     "name": "stdout",
     "output_type": "stream",
     "text": [
      "[[ 1 77  3  4]\n",
      " [ 5  6  7  8]\n",
      " [ 9 10 11 12]]\n"
     ]
    }
   ],
   "source": [
    "print(a)"
   ]
  },
  {
   "cell_type": "code",
   "execution_count": 55,
   "metadata": {
    "executionInfo": {
     "elapsed": 570,
     "status": "ok",
     "timestamp": 1615031362750,
     "user": {
      "displayName": "Leonardo",
      "photoUrl": "https://lh3.googleusercontent.com/a-/AOh14GjFFAnkGTFZ2yKgAmVVE5eZCgmqkfyzM2ErE_uaIXk=s64",
      "userId": "06376217261822125631"
     },
     "user_tz": 180
    },
    "id": "Iu7juKnaXhf7"
   },
   "outputs": [],
   "source": [
    "c = a.copy()"
   ]
  },
  {
   "cell_type": "code",
   "execution_count": 56,
   "metadata": {
    "colab": {
     "base_uri": "https://localhost:8080/"
    },
    "executionInfo": {
     "elapsed": 642,
     "status": "ok",
     "timestamp": 1615031369376,
     "user": {
      "displayName": "Leonardo",
      "photoUrl": "https://lh3.googleusercontent.com/a-/AOh14GjFFAnkGTFZ2yKgAmVVE5eZCgmqkfyzM2ErE_uaIXk=s64",
      "userId": "06376217261822125631"
     },
     "user_tz": 180
    },
    "id": "D4PiZh0YXu0h",
    "outputId": "a077c7d5-058c-4fd1-cc67-bb75acfa4a3e"
   },
   "outputs": [
    {
     "name": "stdout",
     "output_type": "stream",
     "text": [
      "[[ 1 77  3  4]\n",
      " [ 5  6  7  8]\n",
      " [ 9 10 11 12]]\n"
     ]
    }
   ],
   "source": [
    "print(c)"
   ]
  },
  {
   "cell_type": "code",
   "execution_count": 57,
   "metadata": {
    "executionInfo": {
     "elapsed": 579,
     "status": "ok",
     "timestamp": 1615031386104,
     "user": {
      "displayName": "Leonardo",
      "photoUrl": "https://lh3.googleusercontent.com/a-/AOh14GjFFAnkGTFZ2yKgAmVVE5eZCgmqkfyzM2ErE_uaIXk=s64",
      "userId": "06376217261822125631"
     },
     "user_tz": 180
    },
    "id": "6X07kS6jXw8M"
   },
   "outputs": [],
   "source": [
    "c[0][0] = 100"
   ]
  },
  {
   "cell_type": "code",
   "execution_count": 58,
   "metadata": {
    "colab": {
     "base_uri": "https://localhost:8080/"
    },
    "executionInfo": {
     "elapsed": 668,
     "status": "ok",
     "timestamp": 1615031393358,
     "user": {
      "displayName": "Leonardo",
      "photoUrl": "https://lh3.googleusercontent.com/a-/AOh14GjFFAnkGTFZ2yKgAmVVE5eZCgmqkfyzM2ErE_uaIXk=s64",
      "userId": "06376217261822125631"
     },
     "user_tz": 180
    },
    "id": "5Jwfs8yzX0pi",
    "outputId": "754f9db5-677d-4fb0-ae87-88e9e2ad9183"
   },
   "outputs": [
    {
     "name": "stdout",
     "output_type": "stream",
     "text": [
      "[[ 1 77  3  4]\n",
      " [ 5  6  7  8]\n",
      " [ 9 10 11 12]]\n"
     ]
    }
   ],
   "source": [
    "print(a)"
   ]
  },
  {
   "cell_type": "code",
   "execution_count": 59,
   "metadata": {
    "colab": {
     "base_uri": "https://localhost:8080/"
    },
    "executionInfo": {
     "elapsed": 579,
     "status": "ok",
     "timestamp": 1615031402523,
     "user": {
      "displayName": "Leonardo",
      "photoUrl": "https://lh3.googleusercontent.com/a-/AOh14GjFFAnkGTFZ2yKgAmVVE5eZCgmqkfyzM2ErE_uaIXk=s64",
      "userId": "06376217261822125631"
     },
     "user_tz": 180
    },
    "id": "TS5ikNO9X20H",
    "outputId": "eae801e3-3f1e-4a11-b010-982334edc47c"
   },
   "outputs": [
    {
     "name": "stdout",
     "output_type": "stream",
     "text": [
      "[[100  77   3   4]\n",
      " [  5   6   7   8]\n",
      " [  9  10  11  12]]\n"
     ]
    }
   ],
   "source": [
    "print(c)"
   ]
  },
  {
   "cell_type": "code",
   "execution_count": 60,
   "metadata": {
    "colab": {
     "base_uri": "https://localhost:8080/"
    },
    "executionInfo": {
     "elapsed": 564,
     "status": "ok",
     "timestamp": 1615031523640,
     "user": {
      "displayName": "Leonardo",
      "photoUrl": "https://lh3.googleusercontent.com/a-/AOh14GjFFAnkGTFZ2yKgAmVVE5eZCgmqkfyzM2ErE_uaIXk=s64",
      "userId": "06376217261822125631"
     },
     "user_tz": 180
    },
    "id": "baTvBIdhG0Te",
    "outputId": "2e5d5428-e26b-4dba-f182-48a519e2b28b"
   },
   "outputs": [
    {
     "name": "stdout",
     "output_type": "stream",
     "text": [
      "[1 4 5]\n"
     ]
    }
   ],
   "source": [
    "a = np.array([[1,2], [3, 4], [5, 6]])\n",
    "print(a[[0, 1, 2], [0, 1, 0]])\n"
   ]
  },
  {
   "cell_type": "code",
   "execution_count": 61,
   "metadata": {
    "colab": {
     "base_uri": "https://localhost:8080/"
    },
    "executionInfo": {
     "elapsed": 646,
     "status": "ok",
     "timestamp": 1615031581751,
     "user": {
      "displayName": "Leonardo",
      "photoUrl": "https://lh3.googleusercontent.com/a-/AOh14GjFFAnkGTFZ2yKgAmVVE5eZCgmqkfyzM2ErE_uaIXk=s64",
      "userId": "06376217261822125631"
     },
     "user_tz": 180
    },
    "id": "n5hvBbF3HC_x",
    "outputId": "a048ec1e-0bbc-4bb2-ced1-0f2495617fe4"
   },
   "outputs": [
    {
     "name": "stdout",
     "output_type": "stream",
     "text": [
      "[1 4 5]\n"
     ]
    }
   ],
   "source": [
    "print(np.array([a[0, 0], a[1, 1], a[2, 0]]))"
   ]
  },
  {
   "cell_type": "code",
   "execution_count": 62,
   "metadata": {
    "colab": {
     "base_uri": "https://localhost:8080/"
    },
    "executionInfo": {
     "elapsed": 598,
     "status": "ok",
     "timestamp": 1615031617441,
     "user": {
      "displayName": "Leonardo",
      "photoUrl": "https://lh3.googleusercontent.com/a-/AOh14GjFFAnkGTFZ2yKgAmVVE5eZCgmqkfyzM2ErE_uaIXk=s64",
      "userId": "06376217261822125631"
     },
     "user_tz": 180
    },
    "id": "surQqpAKHa9d",
    "outputId": "564f1c85-3dcf-40a4-e79f-2155be6907a4"
   },
   "outputs": [
    {
     "name": "stdout",
     "output_type": "stream",
     "text": [
      "[2 2]\n",
      "[2 2]\n"
     ]
    }
   ],
   "source": [
    "print(a[[0, 0], [1, 1]])\n",
    "print(np.array([a[0, 1], a[0, 1]]))"
   ]
  },
  {
   "cell_type": "code",
   "execution_count": 63,
   "metadata": {
    "colab": {
     "base_uri": "https://localhost:8080/"
    },
    "executionInfo": {
     "elapsed": 569,
     "status": "ok",
     "timestamp": 1615031660547,
     "user": {
      "displayName": "Leonardo",
      "photoUrl": "https://lh3.googleusercontent.com/a-/AOh14GjFFAnkGTFZ2yKgAmVVE5eZCgmqkfyzM2ErE_uaIXk=s64",
      "userId": "06376217261822125631"
     },
     "user_tz": 180
    },
    "id": "fvF91DEZH8VB",
    "outputId": "b7bb27fb-d10c-4e0c-a3a7-e74f33a89195"
   },
   "outputs": [
    {
     "name": "stdout",
     "output_type": "stream",
     "text": [
      "[[ 6.  8.]\n",
      " [10. 12.]]\n",
      "[[ 6.  8.]\n",
      " [10. 12.]]\n"
     ]
    }
   ],
   "source": [
    "x = np.array([[1,2],[3,4]], dtype=np.float64)\n",
    "y = np.array([[5,6],[7,8]], dtype=np.float64)\n",
    "print(x + y)\n",
    "print(np.add(x, y))"
   ]
  },
  {
   "cell_type": "code",
   "execution_count": 64,
   "metadata": {
    "colab": {
     "base_uri": "https://localhost:8080/"
    },
    "executionInfo": {
     "elapsed": 582,
     "status": "ok",
     "timestamp": 1615031716011,
     "user": {
      "displayName": "Leonardo",
      "photoUrl": "https://lh3.googleusercontent.com/a-/AOh14GjFFAnkGTFZ2yKgAmVVE5eZCgmqkfyzM2ErE_uaIXk=s64",
      "userId": "06376217261822125631"
     },
     "user_tz": 180
    },
    "id": "iUPvy3wuZDnJ",
    "outputId": "3183bdc1-4d16-46f3-eeec-f209d8726aca"
   },
   "outputs": [
    {
     "data": {
      "text/plain": [
       "array([[1., 2.],\n",
       "       [3., 4.]])"
      ]
     },
     "execution_count": 64,
     "metadata": {
      "tags": []
     },
     "output_type": "execute_result"
    }
   ],
   "source": [
    "x"
   ]
  },
  {
   "cell_type": "code",
   "execution_count": 65,
   "metadata": {
    "colab": {
     "base_uri": "https://localhost:8080/"
    },
    "executionInfo": {
     "elapsed": 576,
     "status": "ok",
     "timestamp": 1615031720456,
     "user": {
      "displayName": "Leonardo",
      "photoUrl": "https://lh3.googleusercontent.com/a-/AOh14GjFFAnkGTFZ2yKgAmVVE5eZCgmqkfyzM2ErE_uaIXk=s64",
      "userId": "06376217261822125631"
     },
     "user_tz": 180
    },
    "id": "JfqYgy2KZE3p",
    "outputId": "4836cb4d-2730-415a-88d0-93367d53b6b2"
   },
   "outputs": [
    {
     "data": {
      "text/plain": [
       "array([[5., 6.],\n",
       "       [7., 8.]])"
      ]
     },
     "execution_count": 65,
     "metadata": {
      "tags": []
     },
     "output_type": "execute_result"
    }
   ],
   "source": [
    "y"
   ]
  },
  {
   "cell_type": "code",
   "execution_count": 66,
   "metadata": {
    "colab": {
     "base_uri": "https://localhost:8080/"
    },
    "executionInfo": {
     "elapsed": 573,
     "status": "ok",
     "timestamp": 1615031731995,
     "user": {
      "displayName": "Leonardo",
      "photoUrl": "https://lh3.googleusercontent.com/a-/AOh14GjFFAnkGTFZ2yKgAmVVE5eZCgmqkfyzM2ErE_uaIXk=s64",
      "userId": "06376217261822125631"
     },
     "user_tz": 180
    },
    "id": "0iX_LvO4ZGF6",
    "outputId": "953731f1-50f6-47b7-9c70-e856916d495e"
   },
   "outputs": [
    {
     "data": {
      "text/plain": [
       "array([[ 5., 12.],\n",
       "       [21., 32.]])"
      ]
     },
     "execution_count": 66,
     "metadata": {
      "tags": []
     },
     "output_type": "execute_result"
    }
   ],
   "source": [
    "x * y"
   ]
  },
  {
   "cell_type": "code",
   "execution_count": 67,
   "metadata": {
    "colab": {
     "base_uri": "https://localhost:8080/"
    },
    "executionInfo": {
     "elapsed": 568,
     "status": "ok",
     "timestamp": 1615031784648,
     "user": {
      "displayName": "Leonardo",
      "photoUrl": "https://lh3.googleusercontent.com/a-/AOh14GjFFAnkGTFZ2yKgAmVVE5eZCgmqkfyzM2ErE_uaIXk=s64",
      "userId": "06376217261822125631"
     },
     "user_tz": 180
    },
    "id": "gXy7_3cyZPAT",
    "outputId": "2323013e-a123-407e-b806-92b95efcef4e"
   },
   "outputs": [
    {
     "data": {
      "text/plain": [
       "array([[19., 22.],\n",
       "       [43., 50.]])"
      ]
     },
     "execution_count": 67,
     "metadata": {
      "tags": []
     },
     "output_type": "execute_result"
    }
   ],
   "source": [
    "x.dot(y)"
   ]
  },
  {
   "cell_type": "code",
   "execution_count": 69,
   "metadata": {
    "colab": {
     "base_uri": "https://localhost:8080/"
    },
    "executionInfo": {
     "elapsed": 566,
     "status": "ok",
     "timestamp": 1615031843896,
     "user": {
      "displayName": "Leonardo",
      "photoUrl": "https://lh3.googleusercontent.com/a-/AOh14GjFFAnkGTFZ2yKgAmVVE5eZCgmqkfyzM2ErE_uaIXk=s64",
      "userId": "06376217261822125631"
     },
     "user_tz": 180
    },
    "id": "W3VFrGPlZemh",
    "outputId": "dbdb6269-df3f-4a9a-b95b-6206affdecaf"
   },
   "outputs": [
    {
     "data": {
      "text/plain": [
       "array([[1.        , 1.41421356],\n",
       "       [1.73205081, 2.        ]])"
      ]
     },
     "execution_count": 69,
     "metadata": {
      "tags": []
     },
     "output_type": "execute_result"
    }
   ],
   "source": [
    "np.sqrt(x)"
   ]
  },
  {
   "cell_type": "code",
   "execution_count": 74,
   "metadata": {
    "executionInfo": {
     "elapsed": 590,
     "status": "ok",
     "timestamp": 1615031977996,
     "user": {
      "displayName": "Leonardo",
      "photoUrl": "https://lh3.googleusercontent.com/a-/AOh14GjFFAnkGTFZ2yKgAmVVE5eZCgmqkfyzM2ErE_uaIXk=s64",
      "userId": "06376217261822125631"
     },
     "user_tz": 180
    },
    "id": "tknrr2HYZrqG"
   },
   "outputs": [],
   "source": [
    "x = np.array([ [1,2], \n",
    "               [3,4] ])"
   ]
  },
  {
   "cell_type": "code",
   "execution_count": 75,
   "metadata": {
    "colab": {
     "base_uri": "https://localhost:8080/"
    },
    "executionInfo": {
     "elapsed": 609,
     "status": "ok",
     "timestamp": 1615031979153,
     "user": {
      "displayName": "Leonardo",
      "photoUrl": "https://lh3.googleusercontent.com/a-/AOh14GjFFAnkGTFZ2yKgAmVVE5eZCgmqkfyzM2ErE_uaIXk=s64",
      "userId": "06376217261822125631"
     },
     "user_tz": 180
    },
    "id": "HDmRcwEXZy1V",
    "outputId": "b76fe02c-c6b3-4565-c181-f7c32a46b19d"
   },
   "outputs": [
    {
     "data": {
      "text/plain": [
       "10"
      ]
     },
     "execution_count": 75,
     "metadata": {
      "tags": []
     },
     "output_type": "execute_result"
    }
   ],
   "source": [
    "np.sum(x)"
   ]
  },
  {
   "cell_type": "code",
   "execution_count": 76,
   "metadata": {
    "colab": {
     "base_uri": "https://localhost:8080/"
    },
    "executionInfo": {
     "elapsed": 391,
     "status": "ok",
     "timestamp": 1615031980291,
     "user": {
      "displayName": "Leonardo",
      "photoUrl": "https://lh3.googleusercontent.com/a-/AOh14GjFFAnkGTFZ2yKgAmVVE5eZCgmqkfyzM2ErE_uaIXk=s64",
      "userId": "06376217261822125631"
     },
     "user_tz": 180
    },
    "id": "0ac1vW3WZ34R",
    "outputId": "fb9a6e9a-49f7-4bf0-b977-b1e909af79f4"
   },
   "outputs": [
    {
     "data": {
      "text/plain": [
       "array([4, 6])"
      ]
     },
     "execution_count": 76,
     "metadata": {
      "tags": []
     },
     "output_type": "execute_result"
    }
   ],
   "source": [
    "np.sum(x, axis=0)"
   ]
  },
  {
   "cell_type": "code",
   "execution_count": 77,
   "metadata": {
    "colab": {
     "base_uri": "https://localhost:8080/"
    },
    "executionInfo": {
     "elapsed": 575,
     "status": "ok",
     "timestamp": 1615031982595,
     "user": {
      "displayName": "Leonardo",
      "photoUrl": "https://lh3.googleusercontent.com/a-/AOh14GjFFAnkGTFZ2yKgAmVVE5eZCgmqkfyzM2ErE_uaIXk=s64",
      "userId": "06376217261822125631"
     },
     "user_tz": 180
    },
    "id": "VX0Ea3vHZ9cN",
    "outputId": "83cbe340-e073-4530-ddb9-d3deb2bd7202"
   },
   "outputs": [
    {
     "data": {
      "text/plain": [
       "array([3, 7])"
      ]
     },
     "execution_count": 77,
     "metadata": {
      "tags": []
     },
     "output_type": "execute_result"
    }
   ],
   "source": [
    "np.sum(x, axis=1)"
   ]
  },
  {
   "cell_type": "code",
   "execution_count": 78,
   "metadata": {
    "colab": {
     "base_uri": "https://localhost:8080/"
    },
    "executionInfo": {
     "elapsed": 599,
     "status": "ok",
     "timestamp": 1615032068817,
     "user": {
      "displayName": "Leonardo",
      "photoUrl": "https://lh3.googleusercontent.com/a-/AOh14GjFFAnkGTFZ2yKgAmVVE5eZCgmqkfyzM2ErE_uaIXk=s64",
      "userId": "06376217261822125631"
     },
     "user_tz": 180
    },
    "id": "UwwgoyTIaVQl",
    "outputId": "f9ccba3e-02c9-4fd9-bd97-bf57530e50d8"
   },
   "outputs": [
    {
     "data": {
      "text/plain": [
       "array([[1, 3],\n",
       "       [2, 4]])"
      ]
     },
     "execution_count": 78,
     "metadata": {
      "tags": []
     },
     "output_type": "execute_result"
    }
   ],
   "source": [
    "x.T"
   ]
  }
 ],
 "metadata": {
  "colab": {
   "name": "Numpy.ipynb",
   "provenance": []
  },
  "kernelspec": {
   "display_name": "Python 3",
   "language": "python",
   "name": "python3"
  },
  "language_info": {
   "codemirror_mode": {
    "name": "ipython",
    "version": 3
   },
   "file_extension": ".py",
   "mimetype": "text/x-python",
   "name": "python",
   "nbconvert_exporter": "python",
   "pygments_lexer": "ipython3",
   "version": "3.8.0"
  }
 },
 "nbformat": 4,
 "nbformat_minor": 1
}
