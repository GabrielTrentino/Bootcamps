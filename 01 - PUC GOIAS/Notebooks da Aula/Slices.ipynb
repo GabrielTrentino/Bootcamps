{
 "cells": [
  {
   "cell_type": "code",
   "execution_count": null,
   "metadata": {
    "id": "YAYGrgCCwco7"
   },
   "outputs": [],
   "source": [
    "linha = '199.72.81.55 - - [01/Jul/1995:00:00:01 -0400] \"GET /history/apollo/ HTTP/1.0\" 200 6245'"
   ]
  },
  {
   "cell_type": "code",
   "execution_count": null,
   "metadata": {
    "id": "BwpYGpPbwql5"
   },
   "outputs": [],
   "source": [
    "type(linha)"
   ]
  },
  {
   "cell_type": "code",
   "execution_count": null,
   "metadata": {
    "id": "x2BmbM5twzbT"
   },
   "outputs": [],
   "source": [
    "lista = linha.split()"
   ]
  },
  {
   "cell_type": "code",
   "execution_count": null,
   "metadata": {
    "id": "sOJorm3Jw5sF"
   },
   "outputs": [],
   "source": [
    "print(lista)"
   ]
  },
  {
   "cell_type": "code",
   "execution_count": null,
   "metadata": {
    "id": "owSCxJjBxOOq"
   },
   "outputs": [],
   "source": [
    "host = lista[0]\n",
    "print(host)"
   ]
  },
  {
   "cell_type": "code",
   "execution_count": null,
   "metadata": {
    "id": "3_8JL3Cyxk6s"
   },
   "outputs": [],
   "source": [
    "data = lista[3].split('[')[1].split(':')[0]\n",
    "print(data)"
   ]
  },
  {
   "cell_type": "code",
   "execution_count": null,
   "metadata": {
    "id": "gkDiCsptyj7Y"
   },
   "outputs": [],
   "source": [
    "url = lista[-4]\n",
    "print(url)"
   ]
  },
  {
   "cell_type": "code",
   "execution_count": null,
   "metadata": {
    "id": "Hm-F7eLMy1Iv"
   },
   "outputs": [],
   "source": [
    "tamanho = int(lista[-1])\n",
    "type(tamanho)"
   ]
  }
 ],
 "metadata": {
  "colab": {
   "name": "Slices.ipynb",
   "provenance": []
  },
  "kernelspec": {
   "display_name": "Python 3",
   "language": "python",
   "name": "python3"
  },
  "language_info": {
   "codemirror_mode": {
    "name": "ipython",
    "version": 3
   },
   "file_extension": ".py",
   "mimetype": "text/x-python",
   "name": "python",
   "nbconvert_exporter": "python",
   "pygments_lexer": "ipython3",
   "version": "3.8.0"
  }
 },
 "nbformat": 4,
 "nbformat_minor": 1
}
