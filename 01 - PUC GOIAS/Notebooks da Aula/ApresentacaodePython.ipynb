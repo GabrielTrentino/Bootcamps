{
 "cells": [
  {
   "cell_type": "code",
   "execution_count": null,
   "metadata": {
    "id": "wQzk74cOgyoB"
   },
   "outputs": [],
   "source": [
    "print(\"hello world!\")"
   ]
  },
  {
   "cell_type": "code",
   "execution_count": null,
   "metadata": {
    "id": "CWu37k4jjc3Q"
   },
   "outputs": [],
   "source": [
    "! cat /proc/cpuinfo"
   ]
  },
  {
   "cell_type": "code",
   "execution_count": null,
   "metadata": {
    "id": "sHJQbelDjuzi"
   },
   "outputs": [],
   "source": [
    "! nvidia-smi"
   ]
  },
  {
   "cell_type": "code",
   "execution_count": null,
   "metadata": {
    "id": "8Thu9sPMkKWE"
   },
   "outputs": [],
   "source": [
    "nome  = input(\"Qual é a melhor linguagem de programação?\")"
   ]
  },
  {
   "cell_type": "code",
   "execution_count": null,
   "metadata": {
    "id": "TTVjp1lFlF5O"
   },
   "outputs": [],
   "source": [
    "if nome == \"python\":\n",
    "   print(\"Você acertou\")\n",
    "else:\n",
    "   print(\"Errou! =(\")"
   ]
  },
  {
   "cell_type": "code",
   "execution_count": null,
   "metadata": {
    "id": "CL7ZjMG9lv8z"
   },
   "outputs": [],
   "source": [
    "# Isso é um comentário"
   ]
  },
  {
   "cell_type": "markdown",
   "metadata": {
    "id": "Ruu-yy1gl5VM"
   },
   "source": [
    "# **Documentar uma apresentação**"
   ]
  },
  {
   "cell_type": "code",
   "execution_count": null,
   "metadata": {
    "id": "rBC4sNggmA7N"
   },
   "outputs": [],
   "source": [
    " inteiro = 1 "
   ]
  },
  {
   "cell_type": "code",
   "execution_count": null,
   "metadata": {
    "id": "I9tpJmSpmogu"
   },
   "outputs": [],
   "source": [
    "print(inteiro)"
   ]
  },
  {
   "cell_type": "code",
   "execution_count": null,
   "metadata": {
    "id": "8LFGli4lmrPu"
   },
   "outputs": [],
   "source": [
    "decimal = 0.003"
   ]
  },
  {
   "cell_type": "code",
   "execution_count": null,
   "metadata": {
    "id": "qLLaqZ2SmuLk"
   },
   "outputs": [],
   "source": [
    "texto = \"Big Data\""
   ]
  },
  {
   "cell_type": "code",
   "execution_count": null,
   "metadata": {
    "id": "6cFjwdALmwvd"
   },
   "outputs": [],
   "source": [
    "boolean = True"
   ]
  },
  {
   "cell_type": "code",
   "execution_count": null,
   "metadata": {
    "id": "6C402mcCm0XM"
   },
   "outputs": [],
   "source": [
    "dicionario = {\"nome\":\"Guido\",\"idade\":28}"
   ]
  },
  {
   "cell_type": "code",
   "execution_count": null,
   "metadata": {
    "id": "SyTccVslm-PZ"
   },
   "outputs": [],
   "source": [
    "lista = [\"item1\", \"item2\",3,\"quatro\",3.14]"
   ]
  },
  {
   "cell_type": "code",
   "execution_count": null,
   "metadata": {
    "id": "CXQV8vHgnH6J"
   },
   "outputs": [],
   "source": [
    "tupla = (1,2,3,\"Python\")"
   ]
  },
  {
   "cell_type": "code",
   "execution_count": null,
   "metadata": {
    "id": "CDCMPnLHnRMK"
   },
   "outputs": [],
   "source": [
    "type(tupla)"
   ]
  },
  {
   "cell_type": "code",
   "execution_count": null,
   "metadata": {
    "id": "qJxgHUkpnhJG"
   },
   "outputs": [],
   "source": [
    "x = 1  - 2j"
   ]
  },
  {
   "cell_type": "code",
   "execution_count": null,
   "metadata": {
    "id": "9DRYOI-jnkbr"
   },
   "outputs": [],
   "source": [
    "type(x)"
   ]
  },
  {
   "cell_type": "code",
   "execution_count": null,
   "metadata": {
    "id": "rTLzngj7p4-9"
   },
   "outputs": [],
   "source": [
    "! git clone https://github.com/leonardoamorim/aulapython"
   ]
  },
  {
   "cell_type": "code",
   "execution_count": null,
   "metadata": {
    "id": "JycYgzvWqSnY"
   },
   "outputs": [],
   "source": [
    "! ls aulapython"
   ]
  },
  {
   "cell_type": "code",
   "execution_count": null,
   "metadata": {
    "id": "_-M9FEZcq89-"
   },
   "outputs": [],
   "source": [
    "! pip install pyspark"
   ]
  },
  {
   "cell_type": "code",
   "execution_count": null,
   "metadata": {
    "id": "ODmAgW4VrJbt"
   },
   "outputs": [],
   "source": [
    "print(11//10) "
   ]
  },
  {
   "cell_type": "code",
   "execution_count": null,
   "metadata": {
    "id": "H4wnSnVEsTx6"
   },
   "outputs": [],
   "source": [
    "x = \" \""
   ]
  },
  {
   "cell_type": "code",
   "execution_count": null,
   "metadata": {
    "id": "H57Y95kgsoGt"
   },
   "outputs": [],
   "source": [
    "if(x):\n",
    "  print(\"O valor de x é igual a vazio\")\n",
    "else:\n",
    "  print(\"A variável 'x' contém caracteres\")"
   ]
  },
  {
   "cell_type": "code",
   "execution_count": null,
   "metadata": {
    "id": "0OLYpFiss-yB"
   },
   "outputs": [],
   "source": [
    "y = \"Um\""
   ]
  },
  {
   "cell_type": "code",
   "execution_count": null,
   "metadata": {
    "id": "thaSmhE0tK0B"
   },
   "outputs": [],
   "source": [
    "z = 1"
   ]
  },
  {
   "cell_type": "code",
   "execution_count": null,
   "metadata": {
    "id": "zhqKcMkOtNTQ"
   },
   "outputs": [],
   "source": [
    "print(y == z)"
   ]
  },
  {
   "cell_type": "code",
   "execution_count": null,
   "metadata": {
    "id": "LwpgbPLrtdBg"
   },
   "outputs": [],
   "source": [
    "idade = 18\n",
    "sobrio = True"
   ]
  },
  {
   "cell_type": "code",
   "execution_count": null,
   "metadata": {
    "id": "r3G549J7uAwx"
   },
   "outputs": [],
   "source": [
    "if idade >= 18 and sobrio == True:\n",
    "  print(\"Você pode dirigir\")\n",
    "else:\n",
    "  print(\"Você não pode dirigir\")"
   ]
  },
  {
   "cell_type": "code",
   "execution_count": null,
   "metadata": {
    "id": "Pmj2y14VuRMc"
   },
   "outputs": [],
   "source": [
    "x = 1\n",
    "while x < 10:\n",
    "  print(\"Número: %s\" %x)\n",
    "  x += 1\n",
    "print(\"O while acabou\")"
   ]
  },
  {
   "cell_type": "code",
   "execution_count": null,
   "metadata": {
    "id": "QwlxfNp5zU86"
   },
   "outputs": [],
   "source": [
    "while True:\n",
    "  linha = input('>')\n",
    "  if linha == 'done':\n",
    "    break\n",
    "  print(linha)\n",
    "print(\"Done!\")"
   ]
  },
  {
   "cell_type": "code",
   "execution_count": null,
   "metadata": {
    "id": "8aXJV1NKz5pJ"
   },
   "outputs": [],
   "source": [
    "frutas = [\"Laranja\", \"Melancia\", \"Uva\"]"
   ]
  },
  {
   "cell_type": "code",
   "execution_count": null,
   "metadata": {
    "id": "n09lKTaU0GBD"
   },
   "outputs": [],
   "source": [
    "print(frutas[0])"
   ]
  },
  {
   "cell_type": "code",
   "execution_count": null,
   "metadata": {
    "id": "96AELpjO0LmY"
   },
   "outputs": [],
   "source": [
    "for f in frutas:\n",
    "  print(f)"
   ]
  },
  {
   "cell_type": "code",
   "execution_count": null,
   "metadata": {
    "id": "qv0bIdnN0WdN"
   },
   "outputs": [],
   "source": [
    "for i in range(0,10,1):\n",
    "  print(i)"
   ]
  },
  {
   "cell_type": "code",
   "execution_count": null,
   "metadata": {
    "id": "hyZ38AGp0znl"
   },
   "outputs": [],
   "source": [
    "range(10)"
   ]
  },
  {
   "cell_type": "code",
   "execution_count": null,
   "metadata": {
    "id": "Wn7dlKr104YB"
   },
   "outputs": [],
   "source": [
    "l = list(range(10))"
   ]
  },
  {
   "cell_type": "code",
   "execution_count": null,
   "metadata": {
    "id": "mg1Lm9Dq0-tV"
   },
   "outputs": [],
   "source": [
    "l"
   ]
  },
  {
   "cell_type": "code",
   "execution_count": null,
   "metadata": {
    "id": "j9-Ck4R21BxD"
   },
   "outputs": [],
   "source": [
    "list(range(5,10))"
   ]
  },
  {
   "cell_type": "code",
   "execution_count": null,
   "metadata": {
    "id": "4YD7GTn91RW7"
   },
   "outputs": [],
   "source": [
    "i = 0\n",
    "if i == 45:\n",
    "  print(\"i é 45\")\n",
    "elif i == 35:\n",
    "  print(\"i é 35\")\n",
    "elif i > 0:\n",
    "  print(\"i é maior que zero\")\n",
    "else:\n",
    "  print(\"faça novos testes\")"
   ]
  },
  {
   "cell_type": "code",
   "execution_count": null,
   "metadata": {
    "id": "T988OJfi1v-r"
   },
   "outputs": [],
   "source": [
    "nome = \"Leonardo\"\n",
    "for i in nome:\n",
    "  print(i)"
   ]
  },
  {
   "cell_type": "code",
   "execution_count": null,
   "metadata": {
    "id": "SjY__cGg2T9r"
   },
   "outputs": [],
   "source": [
    "cat = 'spot'\n",
    "if 'P' in cat:\n",
    "  print(\"Encontrado o caractere 'p' em cat\")\n",
    "else:\n",
    "  print(\"Não encontrei\")"
   ]
  },
  {
   "cell_type": "code",
   "execution_count": null,
   "metadata": {
    "id": "AuFG5W0g3GIf"
   },
   "outputs": [],
   "source": [
    "for i in range(6):\n",
    "  if i == 3:\n",
    "    continue\n",
    "  print(i)"
   ]
  },
  {
   "cell_type": "code",
   "execution_count": null,
   "metadata": {
    "id": "8UvjL53v3yUD"
   },
   "outputs": [],
   "source": [
    "nomes = [\"Leonardo\", \"Afonso\", \"Amorim\"]"
   ]
  },
  {
   "cell_type": "code",
   "execution_count": null,
   "metadata": {
    "id": "PWmnm-Et35MH"
   },
   "outputs": [],
   "source": [
    "nome = nomes.pop()"
   ]
  },
  {
   "cell_type": "code",
   "execution_count": null,
   "metadata": {
    "id": "jxqzAg2l4PIC"
   },
   "outputs": [],
   "source": [
    "nome"
   ]
  },
  {
   "cell_type": "code",
   "execution_count": null,
   "metadata": {
    "id": "2s2vw_Rn4BJ2"
   },
   "outputs": [],
   "source": [
    "print(nomes)"
   ]
  },
  {
   "cell_type": "code",
   "execution_count": null,
   "metadata": {
    "id": "Q28hSTQT4nER"
   },
   "outputs": [],
   "source": [
    "nomes.pop()"
   ]
  },
  {
   "cell_type": "code",
   "execution_count": null,
   "metadata": {
    "id": "fzXaOzpV4p8U"
   },
   "outputs": [],
   "source": [
    "nomes"
   ]
  },
  {
   "cell_type": "code",
   "execution_count": null,
   "metadata": {
    "id": "whbz-3fo4rwK"
   },
   "outputs": [],
   "source": [
    "nomes.pop()"
   ]
  },
  {
   "cell_type": "code",
   "execution_count": null,
   "metadata": {
    "id": "B_oDdFut4uqN"
   },
   "outputs": [],
   "source": [
    "nomes"
   ]
  },
  {
   "cell_type": "code",
   "execution_count": null,
   "metadata": {
    "id": "g7956zct4wX_"
   },
   "outputs": [],
   "source": [
    "nomes.pop()"
   ]
  },
  {
   "cell_type": "code",
   "execution_count": null,
   "metadata": {
    "id": "pvERyAai42I6"
   },
   "outputs": [],
   "source": [
    "nomes = [\"Leonardo\", \"Afonso\", \"Amorim\"]"
   ]
  },
  {
   "cell_type": "code",
   "execution_count": null,
   "metadata": {
    "id": "wstwvKy645zG"
   },
   "outputs": [],
   "source": [
    "while True:\n",
    "  try:\n",
    "    nome = nomes.pop()\n",
    "    print(nome)\n",
    "  except IndexError as e:\n",
    "    print(\"A lista já está vazia\")\n",
    "    break"
   ]
  },
  {
   "cell_type": "code",
   "execution_count": null,
   "metadata": {
    "id": "ck5g1xlc6yqI"
   },
   "outputs": [],
   "source": [
    "lista = [1, 2, 3]"
   ]
  },
  {
   "cell_type": "code",
   "execution_count": null,
   "metadata": {
    "id": "mtrp4jhD62Oe"
   },
   "outputs": [],
   "source": []
  }
 ],
 "metadata": {
  "accelerator": "GPU",
  "colab": {
   "name": "ApresentacaodePython.ipynb",
   "provenance": []
  },
  "kernelspec": {
   "display_name": "Python 3",
   "language": "python",
   "name": "python3"
  },
  "language_info": {
   "codemirror_mode": {
    "name": "ipython",
    "version": 3
   },
   "file_extension": ".py",
   "mimetype": "text/x-python",
   "name": "python",
   "nbconvert_exporter": "python",
   "pygments_lexer": "ipython3",
   "version": "3.8.0"
  }
 },
 "nbformat": 4,
 "nbformat_minor": 1
}
