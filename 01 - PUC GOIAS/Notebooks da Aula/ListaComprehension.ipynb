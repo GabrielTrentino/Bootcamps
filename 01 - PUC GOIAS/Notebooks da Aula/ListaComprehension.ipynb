{
 "cells": [
  {
   "cell_type": "code",
   "execution_count": null,
   "metadata": {
    "id": "diftSTSu6uNg"
   },
   "outputs": [],
   "source": [
    "lista = [0, 1, 2, 3, 4, 5, 6, 7, 8, 9, 10]"
   ]
  },
  {
   "cell_type": "code",
   "execution_count": null,
   "metadata": {
    "id": "eUPau9Bt7AyM"
   },
   "outputs": [],
   "source": [
    "print(lista)"
   ]
  },
  {
   "cell_type": "code",
   "execution_count": null,
   "metadata": {
    "id": "3I4rqBMw7DpW"
   },
   "outputs": [],
   "source": [
    "lista = [ item for item in range(11) ]"
   ]
  },
  {
   "cell_type": "code",
   "execution_count": null,
   "metadata": {
    "id": "MlbJKtkv7N2J"
   },
   "outputs": [],
   "source": [
    "print(lista)"
   ]
  },
  {
   "cell_type": "code",
   "execution_count": null,
   "metadata": {
    "id": "I5LF__dR7TST"
   },
   "outputs": [],
   "source": [
    "lista = [0, -1, 2, -3, -4, 5, 6, 7, -8, 9, 10]"
   ]
  },
  {
   "cell_type": "code",
   "execution_count": null,
   "metadata": {
    "id": "GAtnWFaB7Yhn"
   },
   "outputs": [],
   "source": [
    "lista_negativos = []\n",
    "for i in lista:\n",
    "  if i < 0:\n",
    "    lista_negativos.append(i)"
   ]
  },
  {
   "cell_type": "code",
   "execution_count": null,
   "metadata": {
    "id": "DrRTYy_O7kgZ"
   },
   "outputs": [],
   "source": [
    "print(lista_negativos)"
   ]
  },
  {
   "cell_type": "code",
   "execution_count": null,
   "metadata": {
    "id": "B-FzqDco7nJa"
   },
   "outputs": [],
   "source": [
    "lista_negativos = [ item for item in lista if item < 0]"
   ]
  },
  {
   "cell_type": "code",
   "execution_count": null,
   "metadata": {
    "id": "Hsk0qa1z7v0m"
   },
   "outputs": [],
   "source": [
    "print(lista_negativos)"
   ]
  },
  {
   "cell_type": "code",
   "execution_count": null,
   "metadata": {
    "id": "J4A3b5zj-0PU"
   },
   "outputs": [],
   "source": [
    "lista_pares = [item for item in lista if item%2==0]"
   ]
  },
  {
   "cell_type": "code",
   "execution_count": null,
   "metadata": {
    "id": "d_CWRhc-_BXu"
   },
   "outputs": [],
   "source": [
    "print(lista_pares)"
   ]
  },
  {
   "cell_type": "code",
   "execution_count": null,
   "metadata": {
    "id": "BXu-C0GZ_IxS"
   },
   "outputs": [],
   "source": [
    "lista_impares = [item for item in lista if item %2 == 1 ]"
   ]
  },
  {
   "cell_type": "code",
   "execution_count": null,
   "metadata": {
    "id": "kakIk71U_MY8"
   },
   "outputs": [],
   "source": [
    "print(lista_impares)"
   ]
  },
  {
   "cell_type": "code",
   "execution_count": null,
   "metadata": {
    "id": "3vq7ybYWAbzI"
   },
   "outputs": [],
   "source": [
    "5 / 2"
   ]
  },
  {
   "cell_type": "code",
   "execution_count": null,
   "metadata": {
    "id": "ZYeMGkrhAjIh"
   },
   "outputs": [],
   "source": [
    "5 % 2"
   ]
  },
  {
   "cell_type": "code",
   "execution_count": null,
   "metadata": {
    "id": "2L2RMLnEAk_7"
   },
   "outputs": [],
   "source": [
    "5 // 2"
   ]
  },
  {
   "cell_type": "code",
   "execution_count": null,
   "metadata": {
    "id": "T0S3I4csINoM"
   },
   "outputs": [],
   "source": [
    "var = lambda x: x**2"
   ]
  },
  {
   "cell_type": "code",
   "execution_count": null,
   "metadata": {
    "id": "Vfs27OWFIeVV"
   },
   "outputs": [],
   "source": [
    "var(2)"
   ]
  },
  {
   "cell_type": "code",
   "execution_count": null,
   "metadata": {
    "id": "dTDK29iHIjwh"
   },
   "outputs": [],
   "source": [
    "def pot2(x):\n",
    "  return x**2"
   ]
  },
  {
   "cell_type": "code",
   "execution_count": null,
   "metadata": {
    "id": "7RtW3eUdIok5"
   },
   "outputs": [],
   "source": [
    "pot2(2)"
   ]
  },
  {
   "cell_type": "code",
   "execution_count": null,
   "metadata": {
    "id": "ky91G9FYItHO"
   },
   "outputs": [],
   "source": [
    "lamb = lambda a,b,c: ((b ** 2) - (4 * a * c))"
   ]
  },
  {
   "cell_type": "code",
   "execution_count": null,
   "metadata": {
    "id": "D5JhsK2uJAG_"
   },
   "outputs": [],
   "source": [
    "lamb(4,2,1)"
   ]
  },
  {
   "cell_type": "code",
   "execution_count": null,
   "metadata": {
    "id": "x-vzVWT_JUOh"
   },
   "outputs": [],
   "source": [
    "anonimas = [lambda x: x**2,\n",
    "            lambda x: x**3,\n",
    "            lambda x: x**4]"
   ]
  },
  {
   "cell_type": "code",
   "execution_count": null,
   "metadata": {
    "id": "HnQPXceqJgzN"
   },
   "outputs": [],
   "source": [
    "for a in anonimas:\n",
    "  print(a(10))"
   ]
  }
 ],
 "metadata": {
  "colab": {
   "name": "ListaComprehension.ipynb",
   "provenance": []
  },
  "kernelspec": {
   "display_name": "Python 3",
   "language": "python",
   "name": "python3"
  },
  "language_info": {
   "codemirror_mode": {
    "name": "ipython",
    "version": 3
   },
   "file_extension": ".py",
   "mimetype": "text/x-python",
   "name": "python",
   "nbconvert_exporter": "python",
   "pygments_lexer": "ipython3",
   "version": "3.8.0"
  }
 },
 "nbformat": 4,
 "nbformat_minor": 1
}
