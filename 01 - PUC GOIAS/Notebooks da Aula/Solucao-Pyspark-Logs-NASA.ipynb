{
 "cells": [
  {
   "cell_type": "code",
   "execution_count": null,
   "metadata": {
    "id": "P8ezD2sQ_6dj"
   },
   "outputs": [],
   "source": [
    "!apt-get update\n",
    "!apt-get install openjdk-8-jdk-headless -qq > /dev/null\n",
    "import os\n",
    "os.environ[\"JAVA_HOME\"] = \"/usr/lib/jvm/java-8-openjdk-amd64\"\n",
    "!update-alternatives --set java /usr/lib/jvm/java-8-openjdk-amd64/jre/bin/java\n",
    "!java -version"
   ]
  },
  {
   "cell_type": "code",
   "execution_count": null,
   "metadata": {
    "id": "CXKTTk2TAM0j"
   },
   "outputs": [],
   "source": [
    "!pip install pyspark"
   ]
  },
  {
   "cell_type": "code",
   "execution_count": null,
   "metadata": {
    "id": "9oN8jVwb_9Ex"
   },
   "outputs": [],
   "source": [
    "!git clone https://github.com/leonardoamorim/aulapython.git"
   ]
  },
  {
   "cell_type": "code",
   "execution_count": null,
   "metadata": {
    "id": "BpJdXUlDstzG"
   },
   "outputs": [],
   "source": [
    "! ls aulapython"
   ]
  },
  {
   "cell_type": "code",
   "execution_count": null,
   "metadata": {
    "id": "c70A4zb9At6Q"
   },
   "outputs": [],
   "source": [
    "! gunzip aulapython/NASA_access_log_Jul95.gz\n",
    "! gunzip aulapython/NASA_access_log_Aug95.gz"
   ]
  },
  {
   "cell_type": "code",
   "execution_count": null,
   "metadata": {
    "id": "YhycVjUH_2Jn"
   },
   "outputs": [],
   "source": [
    "from pyspark import SparkConf, SparkContext\n",
    "from operator import add"
   ]
  },
  {
   "cell_type": "code",
   "execution_count": null,
   "metadata": {
    "id": "xkGm-m9-_2Jt"
   },
   "outputs": [],
   "source": [
    "configuracao = (SparkConf().setMaster(\"local\").setAppName(\"Exercicio\")\n",
    "                .set(\"spark.executor.memory\", \"5g\"))"
   ]
  },
  {
   "cell_type": "code",
   "execution_count": null,
   "metadata": {
    "id": "tV4WqN2m_2Jx"
   },
   "outputs": [],
   "source": [
    "sc = SparkContext(conf = configuracao)"
   ]
  },
  {
   "cell_type": "code",
   "execution_count": null,
   "metadata": {
    "id": "CMwWh0R-_2J0"
   },
   "outputs": [],
   "source": [
    "julho = sc.textFile('aulapython/NASA_access_log_Jul95')\n",
    "agosto = sc.textFile('aulapython/NASA_access_log_Aug95')"
   ]
  },
  {
   "cell_type": "code",
   "execution_count": null,
   "metadata": {
    "id": "xTiLV-Ci_2J4"
   },
   "outputs": [],
   "source": [
    "julho = julho.cache()\n",
    "agosto = agosto.cache()"
   ]
  },
  {
   "cell_type": "code",
   "execution_count": null,
   "metadata": {
    "id": "7vO2UjvnQSqo"
   },
   "outputs": [],
   "source": [
    "! head -n3 aulapython/NASA_access_log_Jul95"
   ]
  },
  {
   "cell_type": "code",
   "execution_count": null,
   "metadata": {
    "id": "q2u4Zij7RbNN"
   },
   "outputs": [],
   "source": [
    "exemplo = '199.72.81.55 - - [01/Jul/1995:00:00:01 -0400] \"GET /history/apollo/ HTTP/1.0\" 200 6245'"
   ]
  },
  {
   "cell_type": "code",
   "execution_count": null,
   "metadata": {
    "id": "zWL_H_9BRkh5"
   },
   "outputs": [],
   "source": [
    "operacao = exemplo.split(' ')"
   ]
  },
  {
   "cell_type": "code",
   "execution_count": null,
   "metadata": {
    "id": "61tws2hIkhbE"
   },
   "outputs": [],
   "source": [
    "print(operacao)"
   ]
  },
  {
   "cell_type": "code",
   "execution_count": null,
   "metadata": {
    "id": "TjwRkHWLRqQv"
   },
   "outputs": [],
   "source": [
    "print(operacao[-2])"
   ]
  },
  {
   "cell_type": "code",
   "execution_count": null,
   "metadata": {
    "id": "RwRsj1l4_2J7"
   },
   "outputs": [],
   "source": [
    "# Numero de hosts distintos no mes de Julho\n",
    "contagem_julho = julho.map(lambda line: line.split(' ')[0]).distinct().count()\n",
    "print(\"Numero de hosts distintos no mes de Julho:\", contagem_julho)"
   ]
  },
  {
   "cell_type": "code",
   "execution_count": null,
   "metadata": {
    "id": "bUdYg4_w_2KA"
   },
   "outputs": [],
   "source": [
    "# Numero de hosts distintos no mes de Agosto\n",
    "contagem_agosto = agosto.map(lambda line: line.split(' ')[0]).distinct().count()\n",
    "print(\"Numero de hosts distintos no mes de Agosto:\", contagem_agosto)"
   ]
  },
  {
   "cell_type": "code",
   "execution_count": null,
   "metadata": {
    "id": "P_TWXj75_2KD"
   },
   "outputs": [],
   "source": [
    "# Funcao para verificar se em uma linha existe um codigohttp igual a 404\n",
    "def codigo404(linha):\n",
    "    try:\n",
    "        codigohttp = linha.split(' ')[-2]\n",
    "        if codigohttp == '404':\n",
    "            return True\n",
    "    except:\n",
    "        pass\n",
    "    return False"
   ]
  },
  {
   "cell_type": "code",
   "execution_count": null,
   "metadata": {
    "id": "UvyZPFMs_2KH"
   },
   "outputs": [],
   "source": [
    "erros404_julho = julho.filter(codigo404).cache()\n",
    "erros404_agosto = agosto.filter(lambda linha: linha.split(' ')[-2] == '404').cache()"
   ]
  },
  {
   "cell_type": "code",
   "execution_count": null,
   "metadata": {
    "id": "CiKFJc8M_2KK"
   },
   "outputs": [],
   "source": [
    "print('Erros 404 em Julho: %s' % erros404_julho.count())"
   ]
  },
  {
   "cell_type": "code",
   "execution_count": null,
   "metadata": {
    "id": "dcYfxnAw_2KN"
   },
   "outputs": [],
   "source": [
    "print('Erros 404 em Agosto: %s' % erros404_agosto.count())"
   ]
  },
  {
   "cell_type": "code",
   "execution_count": null,
   "metadata": {
    "id": "DfWTnizXTufy"
   },
   "outputs": [],
   "source": [
    "print(exemplo)"
   ]
  },
  {
   "cell_type": "code",
   "execution_count": null,
   "metadata": {
    "id": "QFx7LxX2Tyee"
   },
   "outputs": [],
   "source": [
    "print(exemplo.split('\"')[1].split(' ')[1])"
   ]
  },
  {
   "cell_type": "code",
   "execution_count": null,
   "metadata": {
    "id": "tGIUjTWA_2KR"
   },
   "outputs": [],
   "source": [
    "# Funcao para retornar os top5 urls com mais erros 404\n",
    "def top5_hosts404(rdd):\n",
    "    urls = rdd.map(lambda linha: linha.split('\"')[1].split(' ')[1])\n",
    "    counts = urls.map(lambda urls: (urls, 1)).reduceByKey(add)\n",
    "    top5 = counts.sortBy(lambda par: -par[1]).take(5)\n",
    "    \n",
    "    print('\\nTop 5 urls:')\n",
    "    for urls, count in top5:\n",
    "        print(urls, count)\n",
    "        \n",
    "    return top5"
   ]
  },
  {
   "cell_type": "code",
   "execution_count": null,
   "metadata": {
    "id": "jrBPH5fr_2KU"
   },
   "outputs": [],
   "source": [
    "top5_hosts404(erros404_julho)"
   ]
  },
  {
   "cell_type": "code",
   "execution_count": null,
   "metadata": {
    "id": "9K4rAV3h_2KX"
   },
   "outputs": [],
   "source": [
    "top5_hosts404(erros404_agosto)"
   ]
  },
  {
   "cell_type": "code",
   "execution_count": null,
   "metadata": {
    "id": "KairSLrXomCt"
   },
   "outputs": [],
   "source": [
    "print(exemplo)"
   ]
  },
  {
   "cell_type": "code",
   "execution_count": null,
   "metadata": {
    "id": "Pz3VVyaJW2ld"
   },
   "outputs": [],
   "source": [
    "print(exemplo.split('[')[1].split(':')[0])"
   ]
  },
  {
   "cell_type": "code",
   "execution_count": null,
   "metadata": {
    "id": "smzCW6c9_2Kb"
   },
   "outputs": [],
   "source": [
    "# Quantidade de erros 404 por dia\n",
    "def contador_dias_404(rdd):\n",
    "    dias = rdd.map(lambda linha: linha.split('[')[1].split(':')[0])\n",
    "    counts = dias.map(lambda dia: (dia, 1)).reduceByKey(add).collect()\n",
    "    return counts"
   ]
  },
  {
   "cell_type": "code",
   "execution_count": null,
   "metadata": {
    "id": "Wd2GgD4k_2Ke"
   },
   "outputs": [],
   "source": [
    "contador_dias_404(erros404_julho)"
   ]
  },
  {
   "cell_type": "code",
   "execution_count": null,
   "metadata": {
    "id": "PuPmKlSx_2Kh"
   },
   "outputs": [],
   "source": [
    "contador_dias_404(erros404_agosto)"
   ]
  },
  {
   "cell_type": "code",
   "execution_count": null,
   "metadata": {
    "id": "--vnX7zJ_2Kl"
   },
   "outputs": [],
   "source": [
    "# Quantidade de bytes acumulados \n",
    "def quantidade_bytes_acumulados(rdd):\n",
    "    def contador(linha):\n",
    "        try:\n",
    "            count = int(linha.split(\" \")[-1])\n",
    "            if count < 0:\n",
    "                raise ValueError()\n",
    "            return count\n",
    "        except:\n",
    "            return 0\n",
    "        \n",
    "    count = rdd.map(contador).reduce(add)\n",
    "    return count"
   ]
  },
  {
   "cell_type": "code",
   "execution_count": null,
   "metadata": {
    "id": "1P-nABmJ_2Ko"
   },
   "outputs": [],
   "source": [
    "print('Quantidade de bytes total em Julho: %s' % quantidade_bytes_acumulados(julho))"
   ]
  },
  {
   "cell_type": "code",
   "execution_count": null,
   "metadata": {
    "id": "U7pqpoPZ_2Kr"
   },
   "outputs": [],
   "source": [
    "print('Quantidade de bytes total em Agosto: %s' % quantidade_bytes_acumulados(agosto))"
   ]
  },
  {
   "cell_type": "code",
   "execution_count": null,
   "metadata": {
    "id": "imySXJev_2Kw"
   },
   "outputs": [],
   "source": [
    "sc.stop()"
   ]
  },
  {
   "cell_type": "code",
   "execution_count": null,
   "metadata": {
    "id": "KpnUKAeieRLo"
   },
   "outputs": [],
   "source": []
  }
 ],
 "metadata": {
  "colab": {
   "collapsed_sections": [],
   "name": "Solucao.ipynb",
   "provenance": []
  },
  "kernelspec": {
   "display_name": "Python 3",
   "language": "python",
   "name": "python3"
  },
  "language_info": {
   "codemirror_mode": {
    "name": "ipython",
    "version": 3
   },
   "file_extension": ".py",
   "mimetype": "text/x-python",
   "name": "python",
   "nbconvert_exporter": "python",
   "pygments_lexer": "ipython3",
   "version": "3.8.0"
  }
 },
 "nbformat": 4,
 "nbformat_minor": 1
}
