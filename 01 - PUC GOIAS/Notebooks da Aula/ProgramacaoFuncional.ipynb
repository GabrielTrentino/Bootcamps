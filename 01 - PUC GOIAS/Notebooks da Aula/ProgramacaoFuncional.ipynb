{
 "cells": [
  {
   "cell_type": "code",
   "execution_count": null,
   "metadata": {
    "id": "5XGvFcDDcewe"
   },
   "outputs": [],
   "source": [
    "from functools import reduce\n",
    "from itertools import zip_longest"
   ]
  },
  {
   "cell_type": "code",
   "execution_count": null,
   "metadata": {
    "id": "5VfmQSDFePW0"
   },
   "outputs": [],
   "source": [
    "def soma(num1, num2):\n",
    "  return num1 + num2"
   ]
  },
  {
   "cell_type": "code",
   "execution_count": null,
   "metadata": {
    "id": "PSybGdQoeb29"
   },
   "outputs": [],
   "source": [
    "soma_lambda = lambda num1, num2: num1 + num2"
   ]
  },
  {
   "cell_type": "code",
   "execution_count": null,
   "metadata": {
    "colab": {
     "base_uri": "https://localhost:8080/"
    },
    "id": "oDmpoOAkehjJ",
    "outputId": "90a99de5-399a-4776-8b88-20172bc46130"
   },
   "outputs": [
    {
     "name": "stdout",
     "output_type": "stream",
     "text": [
      "3\n"
     ]
    }
   ],
   "source": [
    "print(soma(1,2))"
   ]
  },
  {
   "cell_type": "code",
   "execution_count": null,
   "metadata": {
    "colab": {
     "base_uri": "https://localhost:8080/"
    },
    "id": "u0dTsJ-kekQ9",
    "outputId": "69866edc-40ad-4a81-8822-d2044e258c84"
   },
   "outputs": [
    {
     "name": "stdout",
     "output_type": "stream",
     "text": [
      "3\n"
     ]
    }
   ],
   "source": [
    "print(soma_lambda(1,2))"
   ]
  },
  {
   "cell_type": "code",
   "execution_count": null,
   "metadata": {
    "id": "usc0tthke0vU"
   },
   "outputs": [],
   "source": [
    "a = list(map(abs, [-1, -2, -3]))"
   ]
  },
  {
   "cell_type": "code",
   "execution_count": null,
   "metadata": {
    "colab": {
     "base_uri": "https://localhost:8080/"
    },
    "id": "VH96BAK9fFxb",
    "outputId": "1f2ef4e8-5510-4f41-e7b9-d1a0b882239d"
   },
   "outputs": [
    {
     "data": {
      "text/plain": [
       "[1, 2, 3]"
      ]
     },
     "execution_count": 7,
     "metadata": {
      "tags": []
     },
     "output_type": "execute_result"
    }
   ],
   "source": [
    "a"
   ]
  },
  {
   "cell_type": "code",
   "execution_count": null,
   "metadata": {
    "id": "1dQd2ON6fK_t"
   },
   "outputs": [],
   "source": [
    "a = list(map(str, [-1, -2, -3]))"
   ]
  },
  {
   "cell_type": "code",
   "execution_count": null,
   "metadata": {
    "colab": {
     "base_uri": "https://localhost:8080/"
    },
    "id": "iqv282Q5fQJT",
    "outputId": "4dcbbfca-e307-4e11-89d4-1af5035c4a47"
   },
   "outputs": [
    {
     "data": {
      "text/plain": [
       "['-1', '-2', '-3']"
      ]
     },
     "execution_count": 9,
     "metadata": {
      "tags": []
     },
     "output_type": "execute_result"
    }
   ],
   "source": [
    "a"
   ]
  },
  {
   "cell_type": "code",
   "execution_count": null,
   "metadata": {
    "colab": {
     "base_uri": "https://localhost:8080/"
    },
    "id": "WW1cx5NdfTN0",
    "outputId": "29d2ef16-f832-409e-c068-34335e1073c4"
   },
   "outputs": [
    {
     "data": {
      "text/plain": [
       "[1, 8, 27, 64]"
      ]
     },
     "execution_count": 10,
     "metadata": {
      "tags": []
     },
     "output_type": "execute_result"
    }
   ],
   "source": [
    "list(map(lambda x: x*x*x, [1,2,3,4]))"
   ]
  },
  {
   "cell_type": "code",
   "execution_count": null,
   "metadata": {
    "id": "A73CC4Jbfs4c"
   },
   "outputs": [],
   "source": [
    "# [1, 3, 5]\n",
    "# [2, 4, 6]\n",
    "a = list()\n",
    "for i, j in zip_longest([1, 3, 5], [2, 4, 6]):\n",
    "  a.append((i,j))"
   ]
  },
  {
   "cell_type": "code",
   "execution_count": null,
   "metadata": {
    "id": "bfDRP-KMgNAS"
   },
   "outputs": [],
   "source": [
    "a"
   ]
  },
  {
   "cell_type": "code",
   "execution_count": null,
   "metadata": {
    "id": "06dey_PtgVAk"
   },
   "outputs": [],
   "source": [
    "# [1, 3, 5]\n",
    "# [2, 4, 6, 8, 10]\n",
    "a = list()\n",
    "for i, j in zip_longest([1, 3, 5], [2, 4, 6, 8, 10]):\n",
    "  a.append((i,j))"
   ]
  },
  {
   "cell_type": "code",
   "execution_count": null,
   "metadata": {
    "id": "D3y_TJWTgeVw"
   },
   "outputs": [],
   "source": [
    "a"
   ]
  },
  {
   "cell_type": "code",
   "execution_count": null,
   "metadata": {
    "id": "iktZY-t4gkte"
   },
   "outputs": [],
   "source": [
    "# [1, 3, 5]\n",
    "# [2, 4, 6]\n",
    "# [2, 4, 8, 16, 32]\n",
    "a = list()\n",
    "for i, j, k in zip_longest([1, 3, 5], [2, 4, 6], [2, 4, 8, 16, 32]):\n",
    "  a.append((i,j,k))"
   ]
  },
  {
   "cell_type": "code",
   "execution_count": null,
   "metadata": {
    "id": "a_4F7ifOg0D_"
   },
   "outputs": [],
   "source": [
    "a"
   ]
  },
  {
   "cell_type": "code",
   "execution_count": null,
   "metadata": {
    "colab": {
     "base_uri": "https://localhost:8080/"
    },
    "id": "LOHDS4l4g6As",
    "outputId": "c022753c-d2fb-46dc-b19b-fa79d56ca64b"
   },
   "outputs": [
    {
     "data": {
      "text/plain": [
       "[4, 24, 60]"
      ]
     },
     "execution_count": 12,
     "metadata": {
      "tags": []
     },
     "output_type": "execute_result"
    }
   ],
   "source": [
    "list(map(lambda x, y, z: x*y*z, [1, 3, 5], [2, 4, 6], [2, 2, 2]))"
   ]
  },
  {
   "cell_type": "code",
   "execution_count": null,
   "metadata": {
    "colab": {
     "base_uri": "https://localhost:8080/"
    },
    "id": "JB45JmYShNxk",
    "outputId": "504f8f38-5a51-4b45-d7c0-52aae6f34f14"
   },
   "outputs": [
    {
     "data": {
      "text/plain": [
       "[2, 4, 6]"
      ]
     },
     "execution_count": 13,
     "metadata": {
      "tags": []
     },
     "output_type": "execute_result"
    }
   ],
   "source": [
    "list(map(lambda a,b,x: a*x + b, [1, 3, 5], [2, 4, 6], [0, 0, 0] ))"
   ]
  },
  {
   "cell_type": "code",
   "execution_count": null,
   "metadata": {
    "colab": {
     "base_uri": "https://localhost:8080/"
    },
    "id": "xrkFV4BfhocD",
    "outputId": "6980499a-bb1d-4951-c170-df690afe7c4d"
   },
   "outputs": [
    {
     "data": {
      "text/plain": [
       "4"
      ]
     },
     "execution_count": 20,
     "metadata": {
      "tags": []
     },
     "output_type": "execute_result"
    }
   ],
   "source": [
    "reduce(lambda x,y: x+y, [1, 1, 2])"
   ]
  },
  {
   "cell_type": "code",
   "execution_count": null,
   "metadata": {
    "id": "_jNwt6M1h7ak"
   },
   "outputs": [],
   "source": [
    "reduce(lambda x,y: x*y, [0, 1, 2])"
   ]
  },
  {
   "cell_type": "code",
   "execution_count": null,
   "metadata": {
    "id": "z82_wefNim51"
   },
   "outputs": [],
   "source": [
    "list(map(lambda x: x*x, [0, 1, 2]))"
   ]
  },
  {
   "cell_type": "code",
   "execution_count": null,
   "metadata": {
    "id": "nYSywG8ziAPg"
   },
   "outputs": [],
   "source": [
    "reduce(lambda x,y: x+y, [0, 1, 2], 100)"
   ]
  },
  {
   "cell_type": "code",
   "execution_count": null,
   "metadata": {
    "colab": {
     "base_uri": "https://localhost:8080/"
    },
    "id": "moiHKIOBiw6m",
    "outputId": "35c6036d-35b1-4391-c942-098f9a6b6e5a"
   },
   "outputs": [
    {
     "data": {
      "text/plain": [
       "[1, 2, True, 'ola']"
      ]
     },
     "execution_count": 21,
     "metadata": {
      "tags": []
     },
     "output_type": "execute_result"
    }
   ],
   "source": [
    "list(filter(None, [0, 1, 2, None, 2>1, '', 'ola']))"
   ]
  },
  {
   "cell_type": "code",
   "execution_count": null,
   "metadata": {
    "colab": {
     "base_uri": "https://localhost:8080/"
    },
    "id": "7Tr4-c7cjTjI",
    "outputId": "8275a7ef-dc6c-4f5b-896c-e14f6bc5b958"
   },
   "outputs": [
    {
     "data": {
      "text/plain": [
       "[1, 2, 'ola']"
      ]
     },
     "execution_count": 22,
     "metadata": {
      "tags": []
     },
     "output_type": "execute_result"
    }
   ],
   "source": [
    "list(filter(None, [0, 1, 2, None, 2<1, '', 'ola']))"
   ]
  },
  {
   "cell_type": "code",
   "execution_count": null,
   "metadata": {
    "colab": {
     "base_uri": "https://localhost:8080/"
    },
    "id": "KoOiI--DjpuM",
    "outputId": "d176c996-8fc0-4ce9-d269-6a3a3f884e75"
   },
   "outputs": [
    {
     "data": {
      "text/plain": [
       "[4, 5]"
      ]
     },
     "execution_count": 23,
     "metadata": {
      "tags": []
     },
     "output_type": "execute_result"
    }
   ],
   "source": [
    "list(filter(lambda x: x > 3, [0, 1, 2, 3, 4, 5]))"
   ]
  },
  {
   "cell_type": "code",
   "execution_count": null,
   "metadata": {
    "id": "umuhhez9j1_C"
   },
   "outputs": [],
   "source": [
    "list(zip([0, 1, 2], [3, 4, 5]))"
   ]
  },
  {
   "cell_type": "code",
   "execution_count": null,
   "metadata": {
    "id": "E5PF80bFj_Wr"
   },
   "outputs": [],
   "source": [
    "list(zip([0, 1, 2], [3, 4, 5, 6, 7]))"
   ]
  },
  {
   "cell_type": "code",
   "execution_count": null,
   "metadata": {
    "id": "Mmfl9DKAkEAh"
   },
   "outputs": [],
   "source": [
    "list(zip_longest([0, 1, 2], [3, 4, 5, 6, 7]))"
   ]
  },
  {
   "cell_type": "code",
   "execution_count": null,
   "metadata": {
    "id": "j_by4CVikL8W"
   },
   "outputs": [],
   "source": [
    "itens = [1, 2, 3, 4, 5]\n",
    "squared = []\n",
    "for i in itens:\n",
    "  squared.append(i**2)"
   ]
  },
  {
   "cell_type": "code",
   "execution_count": null,
   "metadata": {
    "id": "0QWmg0NmkYtL"
   },
   "outputs": [],
   "source": [
    "squared"
   ]
  },
  {
   "cell_type": "code",
   "execution_count": null,
   "metadata": {
    "id": "7ghhbU5EkZ_u"
   },
   "outputs": [],
   "source": [
    "squared = list(map(lambda x: x**2, itens))"
   ]
  },
  {
   "cell_type": "code",
   "execution_count": null,
   "metadata": {
    "id": "2V9_yBmokhNx"
   },
   "outputs": [],
   "source": [
    "squared"
   ]
  },
  {
   "cell_type": "code",
   "execution_count": null,
   "metadata": {
    "id": "Dtyhw_WKmren"
   },
   "outputs": [],
   "source": [
    "def my_add(a, b):\n",
    "  result = a + b\n",
    "  print(f\"{a} + {b} = {result}\")\n",
    "  return result"
   ]
  },
  {
   "cell_type": "code",
   "execution_count": null,
   "metadata": {
    "id": "oPRZ2u3JmxZd"
   },
   "outputs": [],
   "source": [
    "my_add(1,2)"
   ]
  },
  {
   "cell_type": "code",
   "execution_count": null,
   "metadata": {
    "id": "4oKiGM9Pm4fP"
   },
   "outputs": [],
   "source": [
    "numbers = [0, 2, 2, 3, 4]"
   ]
  },
  {
   "cell_type": "code",
   "execution_count": null,
   "metadata": {
    "id": "2VpQesggm8Nn"
   },
   "outputs": [],
   "source": [
    "reduce(my_add, numbers)"
   ]
  }
 ],
 "metadata": {
  "colab": {
   "name": "ProgramacaoFuncional.ipynb",
   "provenance": []
  },
  "kernelspec": {
   "display_name": "Python 3",
   "language": "python",
   "name": "python3"
  },
  "language_info": {
   "codemirror_mode": {
    "name": "ipython",
    "version": 3
   },
   "file_extension": ".py",
   "mimetype": "text/x-python",
   "name": "python",
   "nbconvert_exporter": "python",
   "pygments_lexer": "ipython3",
   "version": "3.8.0"
  }
 },
 "nbformat": 4,
 "nbformat_minor": 1
}
