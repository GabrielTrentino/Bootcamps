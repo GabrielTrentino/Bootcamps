{
 "cells": [
  {
   "cell_type": "markdown",
   "id": "satellite-trace",
   "metadata": {},
   "source": [
    "# Bootcamp PUC-Goiás (RESUMO):"
   ]
  },
  {
   "cell_type": "markdown",
   "id": "resident-lithuania",
   "metadata": {},
   "source": [
    "# Notebook 01 - Apresentação Python"
   ]
  },
  {
   "cell_type": "markdown",
   "id": "equivalent-lindsay",
   "metadata": {},
   "source": [
    "## Códigos de informações da Máquina:"
   ]
  },
  {
   "cell_type": "code",
   "execution_count": null,
   "id": "norwegian-gazette",
   "metadata": {
    "id": "CWu37k4jjc3Q"
   },
   "outputs": [],
   "source": [
    "# Informações técnicas da máquina utilizada:\n",
    "! cat /proc/cpuinfo"
   ]
  },
  {
   "cell_type": "code",
   "execution_count": null,
   "id": "oriental-innocent",
   "metadata": {
    "id": "sHJQbelDjuzi"
   },
   "outputs": [],
   "source": [
    "#?\n",
    "! nvidia-smi"
   ]
  },
  {
   "cell_type": "code",
   "execution_count": null,
   "id": "engaged-catalog",
   "metadata": {},
   "outputs": [],
   "source": [
    "# Copia o repositório do Github.\n",
    "# Os comandos são realizados em máquinas Linux.\n",
    "# ! git clone https://github.com/leonardoamorim/aulapython"
   ]
  },
  {
   "cell_type": "markdown",
   "id": "permanent-factor",
   "metadata": {},
   "source": [
    "## Básico Python:Apresentação Python"
   ]
  },
  {
   "cell_type": "markdown",
   "id": "strange-curtis",
   "metadata": {},
   "source": [
    "### Hello World!"
   ]
  },
  {
   "cell_type": "code",
   "execution_count": 7,
   "id": "cellular-calvin",
   "metadata": {
    "id": "wQzk74cOgyoB"
   },
   "outputs": [
    {
     "name": "stdout",
     "output_type": "stream",
     "text": [
      "hello world!\n"
     ]
    }
   ],
   "source": [
    "# Isso é um comentário, tem como objetivo explicar o código.\n",
    "# Aparece na tela o que estiver escrito dentro da função.\n",
    "print(\"hello world!\")"
   ]
  },
  {
   "cell_type": "code",
   "execution_count": 8,
   "id": "honey-sweet",
   "metadata": {
    "id": "TTVjp1lFlF5O"
   },
   "outputs": [
    {
     "name": "stdout",
     "output_type": "stream",
     "text": [
      "Qual é a melhor linguagem de programação?python\n",
      "Você acertou\n"
     ]
    }
   ],
   "source": [
    "nome  = input(\"Qual é a melhor linguagem de programação?\")\n",
    "if nome == \"python\":\n",
    "   print(\"Você acertou\")\n",
    "else:\n",
    "   print(\"Errou! =(\")"
   ]
  },
  {
   "cell_type": "markdown",
   "id": "alpine-centre",
   "metadata": {},
   "source": [
    "### Tipos de Variáveis:"
   ]
  },
  {
   "cell_type": "code",
   "execution_count": 10,
   "id": "active-amsterdam",
   "metadata": {
    "id": "I9tpJmSpmogu"
   },
   "outputs": [
    {
     "name": "stdout",
     "output_type": "stream",
     "text": [
      "A variaǘel 1 é do tipo <class 'int'>\n"
     ]
    }
   ],
   "source": [
    "inteiro = 1 \n",
    "print('O dado {} é do tipo {}'.format(inteiro, type(inteiro)))"
   ]
  },
  {
   "cell_type": "code",
   "execution_count": 11,
   "id": "clinical-belfast",
   "metadata": {
    "id": "8LFGli4lmrPu"
   },
   "outputs": [
    {
     "name": "stdout",
     "output_type": "stream",
     "text": [
      "A variável 0.003 é do tipo <class 'float'>\n"
     ]
    }
   ],
   "source": [
    "decimal = 0.003\n",
    "print('O dado {} é do tipo {}'.format(decimal, type(decimal)))"
   ]
  },
  {
   "cell_type": "code",
   "execution_count": 12,
   "id": "spread-filing",
   "metadata": {
    "id": "qLLaqZ2SmuLk"
   },
   "outputs": [
    {
     "name": "stdout",
     "output_type": "stream",
     "text": [
      "A variável Big Data é do tipo <class 'str'>\n"
     ]
    }
   ],
   "source": [
    "texto = \"Big Data\"\n",
    "print('O dado {} é do tipo {}'.format(texto, type(texto)))"
   ]
  },
  {
   "cell_type": "code",
   "execution_count": 13,
   "id": "senior-turner",
   "metadata": {
    "id": "6cFjwdALmwvd"
   },
   "outputs": [
    {
     "name": "stdout",
     "output_type": "stream",
     "text": [
      "A variável True é do tipo <class 'bool'>\n"
     ]
    }
   ],
   "source": [
    "boolean = True\n",
    "print('O dado {} é do tipo {}'.format(boolean, type(boolean)))"
   ]
  },
  {
   "cell_type": "code",
   "execution_count": 15,
   "id": "incorporate-archives",
   "metadata": {
    "id": "6C402mcCm0XM"
   },
   "outputs": [
    {
     "name": "stdout",
     "output_type": "stream",
     "text": [
      "O dado {'nome': 'Guido', 'idade': 28} é do tipo <class 'dict'>\n"
     ]
    }
   ],
   "source": [
    "dicionario = {\"nome\":\"Guido\",\"idade\":28}\n",
    "print('O dado {} é do tipo {}'.format(dicionario, type(dicionario)))"
   ]
  },
  {
   "cell_type": "code",
   "execution_count": 16,
   "id": "variable-angle",
   "metadata": {
    "id": "SyTccVslm-PZ"
   },
   "outputs": [
    {
     "name": "stdout",
     "output_type": "stream",
     "text": [
      "O dado ['item1', 'item2', 3, 'quatro', 3.14] é do tipo <class 'list'>\n"
     ]
    }
   ],
   "source": [
    "lista = [\"item1\", \"item2\",3,\"quatro\",3.14]\n",
    "print('O dado {} é do tipo {}'.format(lista, type(lista)))"
   ]
  },
  {
   "cell_type": "code",
   "execution_count": 17,
   "id": "handled-federation",
   "metadata": {
    "id": "CXQV8vHgnH6J"
   },
   "outputs": [
    {
     "name": "stdout",
     "output_type": "stream",
     "text": [
      "O dado (1, 2, 3, 'Python') é do tipo <class 'tuple'>\n"
     ]
    }
   ],
   "source": [
    "tupla = (1,2,3,\"Python\")\n",
    "print('O dado {} é do tipo {}'.format(tupla, type(tupla)))"
   ]
  },
  {
   "cell_type": "code",
   "execution_count": 18,
   "id": "residential-rolling",
   "metadata": {
    "id": "qJxgHUkpnhJG"
   },
   "outputs": [
    {
     "data": {
      "text/plain": [
       "complex"
      ]
     },
     "execution_count": 18,
     "metadata": {},
     "output_type": "execute_result"
    }
   ],
   "source": [
    "x = 1  - 2j\n",
    "type(x)"
   ]
  },
  {
   "cell_type": "markdown",
   "id": "thermal-evanescence",
   "metadata": {},
   "source": [
    "### Condições:"
   ]
  },
  {
   "cell_type": "code",
   "execution_count": null,
   "id": "vertical-range",
   "metadata": {
    "id": "H57Y95kgsoGt"
   },
   "outputs": [],
   "source": [
    "x = \" \"\n",
    "if(x):\n",
    "  print(\"O valor de x é igual a vazio\")\n",
    "else:\n",
    "  print(\"A variável 'x' contém caracteres\")"
   ]
  },
  {
   "cell_type": "code",
   "execution_count": 22,
   "id": "commercial-measure",
   "metadata": {
    "id": "zhqKcMkOtNTQ"
   },
   "outputs": [
    {
     "name": "stdout",
     "output_type": "stream",
     "text": [
      "False\n"
     ]
    }
   ],
   "source": [
    "y = \"Um\"\n",
    "z = 1\n",
    "print(y == z)"
   ]
  },
  {
   "cell_type": "code",
   "execution_count": null,
   "id": "steady-earthquake",
   "metadata": {
    "id": "r3G549J7uAwx"
   },
   "outputs": [],
   "source": [
    "idade = 18\n",
    "sobrio = True\n",
    "\n",
    "if idade >= 18 and sobrio == True:\n",
    "  print(\"Você pode dirigir\")\n",
    "else:\n",
    "  print(\"Você não pode dirigir\")"
   ]
  },
  {
   "cell_type": "code",
   "execution_count": null,
   "id": "coordinated-offering",
   "metadata": {},
   "outputs": [],
   "source": [
    "i = 0\n",
    "if i == 45:\n",
    "  print(\"i é 45\")\n",
    "elif i == 35:\n",
    "  print(\"i é 35\")\n",
    "elif i > 0:\n",
    "  print(\"i é maior que zero\")\n",
    "else:\n",
    "  print(\"faça novos testes\")"
   ]
  },
  {
   "cell_type": "markdown",
   "id": "documented-designer",
   "metadata": {},
   "source": [
    "### Estruturas de Repetição:"
   ]
  },
  {
   "cell_type": "code",
   "execution_count": 23,
   "id": "innovative-fashion",
   "metadata": {
    "id": "Pmj2y14VuRMc"
   },
   "outputs": [
    {
     "name": "stdout",
     "output_type": "stream",
     "text": [
      "Número: 1\n",
      "Número: 2\n",
      "Número: 3\n",
      "Número: 4\n",
      "Número: 5\n",
      "Número: 6\n",
      "Número: 7\n",
      "Número: 8\n",
      "Número: 9\n",
      "O while acabou\n"
     ]
    }
   ],
   "source": [
    "x = 1\n",
    "while x < 10:\n",
    "  print(\"Número: %s\" %x)\n",
    "  x += 1\n",
    "print(\"O while acabou\")"
   ]
  },
  {
   "cell_type": "code",
   "execution_count": 24,
   "id": "related-friendship",
   "metadata": {
    "id": "QwlxfNp5zU86"
   },
   "outputs": [
    {
     "name": "stdout",
     "output_type": "stream",
     "text": [
      ">>\n",
      ">\n",
      ">>>>\n",
      ">>>\n",
      ">2\n",
      "2\n",
      ">3\n",
      "3\n",
      ">done\n",
      "Done!\n"
     ]
    }
   ],
   "source": [
    "while True:\n",
    "  linha = input('>')\n",
    "  if linha == 'done':\n",
    "    break\n",
    "  print(linha)\n",
    "print(\"Done!\")"
   ]
  },
  {
   "cell_type": "code",
   "execution_count": null,
   "id": "charitable-footwear",
   "metadata": {},
   "outputs": [],
   "source": [
    "for i in range(6):\n",
    "  if i == 3:\n",
    "    continue\n",
    "  print(i)"
   ]
  },
  {
   "cell_type": "markdown",
   "id": "ceramic-trouble",
   "metadata": {},
   "source": [
    "### Listas:"
   ]
  },
  {
   "cell_type": "code",
   "execution_count": null,
   "id": "suffering-bacteria",
   "metadata": {
    "id": "n09lKTaU0GBD"
   },
   "outputs": [],
   "source": [
    "frutas = [\"Laranja\", \"Melancia\", \"Uva\"]\n",
    "print(frutas[0])"
   ]
  },
  {
   "cell_type": "code",
   "execution_count": null,
   "id": "premier-norfolk",
   "metadata": {
    "id": "96AELpjO0LmY"
   },
   "outputs": [],
   "source": [
    "# Listas em Estrutura de Repetição:\n",
    "for f in frutas:\n",
    "  print(f)"
   ]
  },
  {
   "cell_type": "code",
   "execution_count": null,
   "id": "intense-manner",
   "metadata": {
    "id": "qv0bIdnN0WdN"
   },
   "outputs": [],
   "source": [
    "for i in range(0,10,1):\n",
    "  print(i)"
   ]
  },
  {
   "cell_type": "code",
   "execution_count": 27,
   "id": "significant-punishment",
   "metadata": {
    "id": "T988OJfi1v-r"
   },
   "outputs": [
    {
     "name": "stdout",
     "output_type": "stream",
     "text": [
      "L\n",
      "e\n",
      "o\n",
      "n\n",
      "a\n",
      "r\n",
      "d\n",
      "o\n"
     ]
    }
   ],
   "source": [
    "# As Strings funcionam como listas. Cada caracter é um elemento da lista\n",
    "nome = \"Leonardo\"\n",
    "for i in nome:\n",
    "  print(i)"
   ]
  },
  {
   "cell_type": "code",
   "execution_count": 28,
   "id": "activated-bolivia",
   "metadata": {
    "id": "SjY__cGg2T9r"
   },
   "outputs": [
    {
     "name": "stdout",
     "output_type": "stream",
     "text": [
      "Não encontrei\n"
     ]
    }
   ],
   "source": [
    "cat = 'spot'\n",
    "if 'P' in cat:\n",
    "  print(\"Encontrado o caractere 'p' em cat\")\n",
    "else:\n",
    "  print(\"Não encontrei\")"
   ]
  },
  {
   "cell_type": "code",
   "execution_count": 30,
   "id": "coated-algorithm",
   "metadata": {
    "id": "jxqzAg2l4PIC"
   },
   "outputs": [
    {
     "data": {
      "text/plain": [
       "'Amorim'"
      ]
     },
     "execution_count": 30,
     "metadata": {},
     "output_type": "execute_result"
    }
   ],
   "source": [
    "nomes = [\"Leonardo\", \"Afonso\", \"Amorim\"]\n",
    "nome = nomes.pop()\n",
    "nome"
   ]
  },
  {
   "cell_type": "code",
   "execution_count": 31,
   "id": "selected-pixel",
   "metadata": {
    "id": "2s2vw_Rn4BJ2"
   },
   "outputs": [
    {
     "name": "stdout",
     "output_type": "stream",
     "text": [
      "['Leonardo', 'Afonso']\n"
     ]
    }
   ],
   "source": [
    "print(nomes)"
   ]
  },
  {
   "cell_type": "code",
   "execution_count": null,
   "id": "accessible-multiple",
   "metadata": {
    "id": "wstwvKy645zG"
   },
   "outputs": [],
   "source": [
    "while True:\n",
    "  try:\n",
    "    nome = nomes.pop()\n",
    "    print(nome)\n",
    "  except IndexError as e:\n",
    "    print(\"A lista já está vazia\")\n",
    "    break"
   ]
  },
  {
   "cell_type": "code",
   "execution_count": null,
   "id": "rental-latitude",
   "metadata": {
    "id": "ck5g1xlc6yqI"
   },
   "outputs": [],
   "source": [
    "lista = [1, 2, 3]"
   ]
  },
  {
   "cell_type": "code",
   "execution_count": null,
   "id": "guilty-committee",
   "metadata": {},
   "outputs": [],
   "source": [
    "nome  = input(\"Qual é a melhor linguagem de programação?\")\n",
    "if nome == \"python\":\n",
    "   print(\"Você acertou\")\n",
    "else:\n",
    "   print(\"Errou! =(\")"
   ]
  }
 ],
 "metadata": {
  "kernelspec": {
   "display_name": "Python 3",
   "language": "python",
   "name": "python3"
  },
  "language_info": {
   "codemirror_mode": {
    "name": "ipython",
    "version": 3
   },
   "file_extension": ".py",
   "mimetype": "text/x-python",
   "name": "python",
   "nbconvert_exporter": "python",
   "pygments_lexer": "ipython3",
   "version": "3.8.0"
  }
 },
 "nbformat": 4,
 "nbformat_minor": 5
}
